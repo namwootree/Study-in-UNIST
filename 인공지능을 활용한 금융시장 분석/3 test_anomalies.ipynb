{
 "cells": [
  {
   "cell_type": "code",
   "execution_count": 2,
   "metadata": {
    "executionInfo": {
     "elapsed": 2150,
     "status": "ok",
     "timestamp": 1679377541925,
     "user": {
      "displayName": "Sang-Ook Shin",
      "userId": "07237378072833558059"
     },
     "user_tz": -540
    },
    "id": "InQlbRpK6TeE"
   },
   "outputs": [],
   "source": [
    "# Importing necessary packages\n",
    "import pandas as pd # python's data handling package\n",
    "import numpy as np # python's scientific computing package\n",
    "import matplotlib.pyplot as plt # python's plotting package\n",
    "from sklearn.metrics import mean_squared_error as mse\n",
    "import statsmodels.api as sm # module for OLS\n",
    "from functools import reduce\n",
    "from datetime import datetime\n",
    "\n",
    "import pandas_datareader.data as web  # module for reading datasets directly from the web\n",
    "import pandas_datareader.famafrench as ff "
   ]
  },
  {
   "cell_type": "code",
   "execution_count": 3,
   "metadata": {
    "colab": {
     "base_uri": "https://localhost:8080/"
    },
    "executionInfo": {
     "elapsed": 37178,
     "status": "ok",
     "timestamp": 1679377579095,
     "user": {
      "displayName": "Sang-Ook Shin",
      "userId": "07237378072833558059"
     },
     "user_tz": -540
    },
    "id": "9FT3_CTZrvlb",
    "outputId": "04642cff-d6bd-4f90-d4b4-c52d5fd760f3",
    "scrolled": true
   },
   "outputs": [
    {
     "name": "stdout",
     "output_type": "stream",
     "text": [
      "<class 'pandas.core.frame.DataFrame'>\n",
      "Int64Index: 660 entries, 0 to 659\n",
      "Columns: 189 entries, date to tv_1\n",
      "dtypes: float64(188), period[M](1)\n",
      "memory usage: 979.7 KB\n",
      "None\n"
     ]
    }
   ],
   "source": [
    "# Read anomalies and merge into a single dataframe\n",
    "\n",
    "anom_list = ['momentum',\n",
    "             'value_growth',\n",
    "             'investment',\n",
    "             'profitability',\n",
    "             'intangibles',\n",
    "             'frictions']\n",
    "\n",
    "df_list=[] # empty list\n",
    "for item in anom_list:\n",
    "  filename = '/Users/namwoo/Desktop/UNIST/lecture/1-1/인공지능을 활용한 금융시장 분석/Section_3/' + item + '.csv'\n",
    "  df = pd.read_csv(filename)\n",
    "  df_list.append(df.drop(columns=['Unnamed: 0'])) # each element of df_list represents each group\n",
    "\n",
    "anomaly = reduce(lambda  x,y: pd.merge(x,y,on=['date'],how='inner'), df_list) # merge all anomalies in one dataset\n",
    "anomaly['date'] = pd.to_datetime(anomaly['date']).dt.to_period(freq='m') # date in period format\n",
    "print(anomaly.info())\n",
    "anomaly.to_csv('/Users/namwoo/Desktop/UNIST/lecture/1-1/인공지능을 활용한 금융시장 분석/Section_3/anomalies188.csv', sep=',', na_rep='NaN')"
   ]
  },
  {
   "cell_type": "code",
   "execution_count": 8,
   "metadata": {},
   "outputs": [
    {
     "data": {
      "text/html": [
       "<div>\n",
       "<style scoped>\n",
       "    .dataframe tbody tr th:only-of-type {\n",
       "        vertical-align: middle;\n",
       "    }\n",
       "\n",
       "    .dataframe tbody tr th {\n",
       "        vertical-align: top;\n",
       "    }\n",
       "\n",
       "    .dataframe thead th {\n",
       "        text-align: right;\n",
       "    }\n",
       "</style>\n",
       "<table border=\"1\" class=\"dataframe\">\n",
       "  <thead>\n",
       "    <tr style=\"text-align: right;\">\n",
       "      <th></th>\n",
       "      <th>date</th>\n",
       "      <th>abr_1</th>\n",
       "      <th>abr_6</th>\n",
       "      <th>abr_12</th>\n",
       "      <th>cim_1</th>\n",
       "      <th>cim_6</th>\n",
       "      <th>cim_12</th>\n",
       "      <th>cm_1</th>\n",
       "      <th>cm_12</th>\n",
       "      <th>def_1</th>\n",
       "      <th>...</th>\n",
       "      <th>beta_1</th>\n",
       "      <th>dtv_12</th>\n",
       "      <th>isff_1</th>\n",
       "      <th>isq_1</th>\n",
       "      <th>ivff_1</th>\n",
       "      <th>ivq_1</th>\n",
       "      <th>me</th>\n",
       "      <th>srev</th>\n",
       "      <th>sv_1</th>\n",
       "      <th>tv_1</th>\n",
       "    </tr>\n",
       "  </thead>\n",
       "  <tbody>\n",
       "    <tr>\n",
       "      <th>0</th>\n",
       "      <td>1967-01</td>\n",
       "      <td>NaN</td>\n",
       "      <td>NaN</td>\n",
       "      <td>NaN</td>\n",
       "      <td>-5.9658</td>\n",
       "      <td>-5.9658</td>\n",
       "      <td>-5.9658</td>\n",
       "      <td>NaN</td>\n",
       "      <td>NaN</td>\n",
       "      <td>NaN</td>\n",
       "      <td>...</td>\n",
       "      <td>11.8004</td>\n",
       "      <td>-4.4299</td>\n",
       "      <td>3.5865</td>\n",
       "      <td>NaN</td>\n",
       "      <td>12.1847</td>\n",
       "      <td>NaN</td>\n",
       "      <td>-13.0562</td>\n",
       "      <td>-0.1126</td>\n",
       "      <td>NaN</td>\n",
       "      <td>11.4709</td>\n",
       "    </tr>\n",
       "    <tr>\n",
       "      <th>1</th>\n",
       "      <td>1967-02</td>\n",
       "      <td>NaN</td>\n",
       "      <td>NaN</td>\n",
       "      <td>NaN</td>\n",
       "      <td>7.3177</td>\n",
       "      <td>6.9734</td>\n",
       "      <td>6.9734</td>\n",
       "      <td>NaN</td>\n",
       "      <td>NaN</td>\n",
       "      <td>NaN</td>\n",
       "      <td>...</td>\n",
       "      <td>2.1382</td>\n",
       "      <td>-2.7018</td>\n",
       "      <td>-1.2576</td>\n",
       "      <td>-1.2026</td>\n",
       "      <td>4.7215</td>\n",
       "      <td>2.9410</td>\n",
       "      <td>-5.1638</td>\n",
       "      <td>2.8017</td>\n",
       "      <td>NaN</td>\n",
       "      <td>4.7486</td>\n",
       "    </tr>\n",
       "    <tr>\n",
       "      <th>2</th>\n",
       "      <td>1967-03</td>\n",
       "      <td>NaN</td>\n",
       "      <td>NaN</td>\n",
       "      <td>NaN</td>\n",
       "      <td>0.7130</td>\n",
       "      <td>0.7598</td>\n",
       "      <td>0.7598</td>\n",
       "      <td>NaN</td>\n",
       "      <td>NaN</td>\n",
       "      <td>NaN</td>\n",
       "      <td>...</td>\n",
       "      <td>0.2358</td>\n",
       "      <td>-1.6275</td>\n",
       "      <td>4.8673</td>\n",
       "      <td>1.3089</td>\n",
       "      <td>0.6764</td>\n",
       "      <td>1.4314</td>\n",
       "      <td>-3.3238</td>\n",
       "      <td>-1.5156</td>\n",
       "      <td>NaN</td>\n",
       "      <td>0.3803</td>\n",
       "    </tr>\n",
       "    <tr>\n",
       "      <th>3</th>\n",
       "      <td>1967-04</td>\n",
       "      <td>NaN</td>\n",
       "      <td>NaN</td>\n",
       "      <td>NaN</td>\n",
       "      <td>0.0488</td>\n",
       "      <td>-1.1019</td>\n",
       "      <td>-1.1019</td>\n",
       "      <td>NaN</td>\n",
       "      <td>NaN</td>\n",
       "      <td>NaN</td>\n",
       "      <td>...</td>\n",
       "      <td>3.0167</td>\n",
       "      <td>0.5737</td>\n",
       "      <td>-3.6645</td>\n",
       "      <td>-4.5651</td>\n",
       "      <td>-3.0035</td>\n",
       "      <td>-0.9637</td>\n",
       "      <td>-0.7099</td>\n",
       "      <td>-1.9171</td>\n",
       "      <td>NaN</td>\n",
       "      <td>-0.8516</td>\n",
       "    </tr>\n",
       "    <tr>\n",
       "      <th>4</th>\n",
       "      <td>1967-05</td>\n",
       "      <td>NaN</td>\n",
       "      <td>NaN</td>\n",
       "      <td>NaN</td>\n",
       "      <td>-3.3818</td>\n",
       "      <td>-0.8520</td>\n",
       "      <td>-0.8520</td>\n",
       "      <td>NaN</td>\n",
       "      <td>NaN</td>\n",
       "      <td>NaN</td>\n",
       "      <td>...</td>\n",
       "      <td>1.3046</td>\n",
       "      <td>-6.4407</td>\n",
       "      <td>-1.2705</td>\n",
       "      <td>-2.1974</td>\n",
       "      <td>3.4395</td>\n",
       "      <td>2.9436</td>\n",
       "      <td>-4.8868</td>\n",
       "      <td>-4.0637</td>\n",
       "      <td>NaN</td>\n",
       "      <td>0.6068</td>\n",
       "    </tr>\n",
       "    <tr>\n",
       "      <th>5</th>\n",
       "      <td>1967-06</td>\n",
       "      <td>NaN</td>\n",
       "      <td>NaN</td>\n",
       "      <td>NaN</td>\n",
       "      <td>2.6864</td>\n",
       "      <td>1.8143</td>\n",
       "      <td>1.8143</td>\n",
       "      <td>NaN</td>\n",
       "      <td>NaN</td>\n",
       "      <td>NaN</td>\n",
       "      <td>...</td>\n",
       "      <td>5.3642</td>\n",
       "      <td>-4.3680</td>\n",
       "      <td>1.7429</td>\n",
       "      <td>4.0349</td>\n",
       "      <td>9.0798</td>\n",
       "      <td>10.4309</td>\n",
       "      <td>-12.6906</td>\n",
       "      <td>2.1118</td>\n",
       "      <td>NaN</td>\n",
       "      <td>9.4936</td>\n",
       "    </tr>\n",
       "    <tr>\n",
       "      <th>6</th>\n",
       "      <td>1967-07</td>\n",
       "      <td>NaN</td>\n",
       "      <td>NaN</td>\n",
       "      <td>NaN</td>\n",
       "      <td>-3.0291</td>\n",
       "      <td>-1.4756</td>\n",
       "      <td>-1.9696</td>\n",
       "      <td>NaN</td>\n",
       "      <td>NaN</td>\n",
       "      <td>NaN</td>\n",
       "      <td>...</td>\n",
       "      <td>4.4379</td>\n",
       "      <td>-4.0069</td>\n",
       "      <td>-2.3318</td>\n",
       "      <td>-0.3176</td>\n",
       "      <td>2.9932</td>\n",
       "      <td>2.9058</td>\n",
       "      <td>-6.0201</td>\n",
       "      <td>-0.6798</td>\n",
       "      <td>NaN</td>\n",
       "      <td>3.6495</td>\n",
       "    </tr>\n",
       "    <tr>\n",
       "      <th>7</th>\n",
       "      <td>1967-08</td>\n",
       "      <td>NaN</td>\n",
       "      <td>NaN</td>\n",
       "      <td>NaN</td>\n",
       "      <td>-0.1846</td>\n",
       "      <td>0.2394</td>\n",
       "      <td>0.2450</td>\n",
       "      <td>NaN</td>\n",
       "      <td>NaN</td>\n",
       "      <td>NaN</td>\n",
       "      <td>...</td>\n",
       "      <td>-0.7564</td>\n",
       "      <td>-2.2595</td>\n",
       "      <td>-2.0849</td>\n",
       "      <td>-1.7874</td>\n",
       "      <td>-0.5183</td>\n",
       "      <td>-0.6487</td>\n",
       "      <td>-1.8852</td>\n",
       "      <td>0.3253</td>\n",
       "      <td>NaN</td>\n",
       "      <td>-1.0696</td>\n",
       "    </tr>\n",
       "    <tr>\n",
       "      <th>8</th>\n",
       "      <td>1967-09</td>\n",
       "      <td>NaN</td>\n",
       "      <td>NaN</td>\n",
       "      <td>NaN</td>\n",
       "      <td>4.7868</td>\n",
       "      <td>-0.3979</td>\n",
       "      <td>0.2695</td>\n",
       "      <td>NaN</td>\n",
       "      <td>NaN</td>\n",
       "      <td>NaN</td>\n",
       "      <td>...</td>\n",
       "      <td>3.1530</td>\n",
       "      <td>-2.5475</td>\n",
       "      <td>-0.9828</td>\n",
       "      <td>-1.8780</td>\n",
       "      <td>1.7034</td>\n",
       "      <td>1.7204</td>\n",
       "      <td>-5.5821</td>\n",
       "      <td>1.5122</td>\n",
       "      <td>NaN</td>\n",
       "      <td>1.8708</td>\n",
       "    </tr>\n",
       "    <tr>\n",
       "      <th>9</th>\n",
       "      <td>1967-10</td>\n",
       "      <td>NaN</td>\n",
       "      <td>NaN</td>\n",
       "      <td>NaN</td>\n",
       "      <td>6.5049</td>\n",
       "      <td>0.0131</td>\n",
       "      <td>1.8338</td>\n",
       "      <td>NaN</td>\n",
       "      <td>NaN</td>\n",
       "      <td>NaN</td>\n",
       "      <td>...</td>\n",
       "      <td>-0.3413</td>\n",
       "      <td>-0.0612</td>\n",
       "      <td>6.8368</td>\n",
       "      <td>2.1904</td>\n",
       "      <td>2.7158</td>\n",
       "      <td>-0.4035</td>\n",
       "      <td>-0.5896</td>\n",
       "      <td>4.6168</td>\n",
       "      <td>NaN</td>\n",
       "      <td>1.2885</td>\n",
       "    </tr>\n",
       "  </tbody>\n",
       "</table>\n",
       "<p>10 rows × 189 columns</p>\n",
       "</div>"
      ],
      "text/plain": [
       "      date  abr_1  abr_6  abr_12   cim_1   cim_6  cim_12  cm_1  cm_12  def_1  \\\n",
       "0  1967-01    NaN    NaN     NaN -5.9658 -5.9658 -5.9658   NaN    NaN    NaN   \n",
       "1  1967-02    NaN    NaN     NaN  7.3177  6.9734  6.9734   NaN    NaN    NaN   \n",
       "2  1967-03    NaN    NaN     NaN  0.7130  0.7598  0.7598   NaN    NaN    NaN   \n",
       "3  1967-04    NaN    NaN     NaN  0.0488 -1.1019 -1.1019   NaN    NaN    NaN   \n",
       "4  1967-05    NaN    NaN     NaN -3.3818 -0.8520 -0.8520   NaN    NaN    NaN   \n",
       "5  1967-06    NaN    NaN     NaN  2.6864  1.8143  1.8143   NaN    NaN    NaN   \n",
       "6  1967-07    NaN    NaN     NaN -3.0291 -1.4756 -1.9696   NaN    NaN    NaN   \n",
       "7  1967-08    NaN    NaN     NaN -0.1846  0.2394  0.2450   NaN    NaN    NaN   \n",
       "8  1967-09    NaN    NaN     NaN  4.7868 -0.3979  0.2695   NaN    NaN    NaN   \n",
       "9  1967-10    NaN    NaN     NaN  6.5049  0.0131  1.8338   NaN    NaN    NaN   \n",
       "\n",
       "   ...   beta_1  dtv_12  isff_1   isq_1   ivff_1    ivq_1       me    srev  \\\n",
       "0  ...  11.8004 -4.4299  3.5865     NaN  12.1847      NaN -13.0562 -0.1126   \n",
       "1  ...   2.1382 -2.7018 -1.2576 -1.2026   4.7215   2.9410  -5.1638  2.8017   \n",
       "2  ...   0.2358 -1.6275  4.8673  1.3089   0.6764   1.4314  -3.3238 -1.5156   \n",
       "3  ...   3.0167  0.5737 -3.6645 -4.5651  -3.0035  -0.9637  -0.7099 -1.9171   \n",
       "4  ...   1.3046 -6.4407 -1.2705 -2.1974   3.4395   2.9436  -4.8868 -4.0637   \n",
       "5  ...   5.3642 -4.3680  1.7429  4.0349   9.0798  10.4309 -12.6906  2.1118   \n",
       "6  ...   4.4379 -4.0069 -2.3318 -0.3176   2.9932   2.9058  -6.0201 -0.6798   \n",
       "7  ...  -0.7564 -2.2595 -2.0849 -1.7874  -0.5183  -0.6487  -1.8852  0.3253   \n",
       "8  ...   3.1530 -2.5475 -0.9828 -1.8780   1.7034   1.7204  -5.5821  1.5122   \n",
       "9  ...  -0.3413 -0.0612  6.8368  2.1904   2.7158  -0.4035  -0.5896  4.6168   \n",
       "\n",
       "   sv_1     tv_1  \n",
       "0   NaN  11.4709  \n",
       "1   NaN   4.7486  \n",
       "2   NaN   0.3803  \n",
       "3   NaN  -0.8516  \n",
       "4   NaN   0.6068  \n",
       "5   NaN   9.4936  \n",
       "6   NaN   3.6495  \n",
       "7   NaN  -1.0696  \n",
       "8   NaN   1.8708  \n",
       "9   NaN   1.2885  \n",
       "\n",
       "[10 rows x 189 columns]"
      ]
     },
     "execution_count": 8,
     "metadata": {},
     "output_type": "execute_result"
    }
   ],
   "source": [
    "anomaly.head(10)"
   ]
  },
  {
   "cell_type": "code",
   "execution_count": 4,
   "metadata": {
    "colab": {
     "base_uri": "https://localhost:8080/"
    },
    "executionInfo": {
     "elapsed": 615,
     "status": "ok",
     "timestamp": 1679377579680,
     "user": {
      "displayName": "Sang-Ook Shin",
      "userId": "07237378072833558059"
     },
     "user_tz": -540
    },
    "id": "soZy8E2xa6dN",
    "outputId": "c1638f2f-55e9-4ce3-842d-48604b24b431"
   },
   "outputs": [
    {
     "name": "stdout",
     "output_type": "stream",
     "text": [
      "      date  abr_1  abr_6  abr_12   cim_1   cim_6  cim_12  cm_1  cm_12  def_1  \\\n",
      "0  1967-01    NaN    NaN     NaN -5.9658 -5.9658 -5.9658   NaN    NaN    NaN   \n",
      "1  1967-02    NaN    NaN     NaN  7.3177  6.9734  6.9734   NaN    NaN    NaN   \n",
      "2  1967-03    NaN    NaN     NaN  0.7130  0.7598  0.7598   NaN    NaN    NaN   \n",
      "3  1967-04    NaN    NaN     NaN  0.0488 -1.1019 -1.1019   NaN    NaN    NaN   \n",
      "4  1967-05    NaN    NaN     NaN -3.3818 -0.8520 -0.8520   NaN    NaN    NaN   \n",
      "\n",
      "   ...   ivff_1   ivq_1       me    srev  sv_1     tv_1  MKT_RF   SMB   HML  \\\n",
      "0  ...  12.1847     NaN -13.0562 -0.1126   NaN  11.4709    8.15  8.32  2.27   \n",
      "1  ...   4.7215  2.9410  -5.1638  2.8017   NaN   4.7486    0.78  3.35 -2.22   \n",
      "2  ...   0.6764  1.4314  -3.3238 -1.5156   NaN   0.3803    3.99  1.55  0.37   \n",
      "3  ...  -3.0035 -0.9637  -0.7099 -1.9171   NaN  -0.8516    3.89  0.63 -2.48   \n",
      "4  ...   3.4395  2.9436  -4.8868 -4.0637   NaN   0.6068   -4.33  1.90  1.09   \n",
      "\n",
      "     RF  \n",
      "0  0.43  \n",
      "1  0.36  \n",
      "2  0.39  \n",
      "3  0.32  \n",
      "4  0.33  \n",
      "\n",
      "[5 rows x 193 columns]\n",
      "188 anomalies in a dataset\n"
     ]
    }
   ],
   "source": [
    "# fama-french 3 factor model (1993 paper)\n",
    "ff_3factor = web.DataReader('F-F_Research_Data_Factors',\n",
    "                            'famafrench',\n",
    "                            start='1960-01-01',\n",
    "                            end='2021-12-31') \n",
    "\n",
    "ff_3fac = ff_3factor[0] # monthly value-weighted returns\n",
    "\n",
    "# Merge datasets: anomaly portfolios + Fama-French factors\n",
    "anom_3fac = pd.merge(anomaly,ff_3fac, how = 'inner', left_on='date', right_index= True)\n",
    "\n",
    "anom_3fac.rename(columns={'Mkt-RF':'MKT_RF'}, inplace=True)\n",
    "print(anom_3fac.head())\n",
    "print('{:.0f} anomalies in a dataset'.format(anom_3fac.columns.get_loc('tv_1')))"
   ]
  },
  {
   "cell_type": "code",
   "execution_count": 5,
   "metadata": {
    "colab": {
     "base_uri": "https://localhost:8080/"
    },
    "executionInfo": {
     "elapsed": 12,
     "status": "ok",
     "timestamp": 1679377579681,
     "user": {
      "displayName": "Sang-Ook Shin",
      "userId": "07237378072833558059"
     },
     "user_tz": -540
    },
    "id": "eDvctLn0xNW4",
    "outputId": "3f72f298-bdd7-44c8-b491-3392ce0b3cb8"
   },
   "outputs": [
    {
     "name": "stdout",
     "output_type": "stream",
     "text": [
      "      date  abr_1  abr_6  abr_12   cim_1   cim_6  cim_12  cm_1  cm_12  def_1  \\\n",
      "0  1967-01    NaN    NaN     NaN -5.9658 -5.9658 -5.9658   NaN    NaN    NaN   \n",
      "1  1967-02    NaN    NaN     NaN  7.3177  6.9734  6.9734   NaN    NaN    NaN   \n",
      "2  1967-03    NaN    NaN     NaN  0.7130  0.7598  0.7598   NaN    NaN    NaN   \n",
      "3  1967-04    NaN    NaN     NaN  0.0488 -1.1019 -1.1019   NaN    NaN    NaN   \n",
      "4  1967-05    NaN    NaN     NaN -3.3818 -0.8520 -0.8520   NaN    NaN    NaN   \n",
      "\n",
      "   ...       me    srev  sv_1     tv_1  MKT_RF   SMB   HML   RMW   CMA    RF  \n",
      "0  ... -13.0562 -0.1126   NaN  11.4709    8.15  9.10  2.27  0.96 -3.16  0.43  \n",
      "1  ...  -5.1638  2.8017   NaN   4.7486    0.78  3.06 -2.22  1.99 -0.99  0.36  \n",
      "2  ...  -3.3238 -1.5156   NaN   0.3803    3.99  1.87  0.37  0.86 -1.60  0.39  \n",
      "3  ...  -0.7099 -1.9171   NaN  -0.8516    3.89  0.43 -2.48  2.33 -3.67  0.32  \n",
      "4  ...  -4.8868 -4.0637   NaN   0.6068   -4.33  2.29  1.09 -1.73  1.73  0.33  \n",
      "\n",
      "[5 rows x 195 columns]\n",
      "188 anomalies in a dataset\n"
     ]
    }
   ],
   "source": [
    "# fama-french 5 factor model (2015 paper)\n",
    "ff_5factor = web.DataReader('F-F_Research_Data_5_Factors_2x3',\n",
    "                            'famafrench',\n",
    "                            start='1960-01-01', \n",
    "                            end='2021-12-31') \n",
    "\n",
    "ff_5fac = ff_5factor[0] # monthly value-weighted returns\n",
    "\n",
    "# Merge datasets: anomaly portfolios + Fama-French factors\n",
    "anom_5fac = pd.merge(anomaly, ff_5fac, how = 'inner', left_on='date', right_index= True)\n",
    "\n",
    "anom_5fac.rename(columns={'Mkt-RF':'MKT_RF'}, inplace=True)\n",
    "print(anom_5fac.head())\n",
    "print('{:.0f} anomalies in a dataset'.format(anom_5fac.columns.get_loc('tv_1')))"
   ]
  },
  {
   "cell_type": "code",
   "execution_count": 6,
   "metadata": {
    "colab": {
     "base_uri": "https://localhost:8080/"
    },
    "executionInfo": {
     "elapsed": 2205,
     "status": "ok",
     "timestamp": 1679377605105,
     "user": {
      "displayName": "Sang-Ook Shin",
      "userId": "07237378072833558059"
     },
     "user_tz": -540
    },
    "id": "99Ce_221m-7J",
    "outputId": "8a94e2b5-ddda-440b-8d2c-3579ebbff851"
   },
   "outputs": [
    {
     "name": "stdout",
     "output_type": "stream",
     "text": [
      "Average absolute value of alpha is 0.39%\n",
      "Average absolute value of t-statistics is 2.71\n",
      "Ratio of significant alpha is 60.11%\n"
     ]
    }
   ],
   "source": [
    "nanom = 188\n",
    "alpha = [0]*nanom\n",
    "tval = [0]*nanom\n",
    "\n",
    "for i in range(0,nanom):\n",
    "  regeq = anom_5fac.columns[i+1] + ' ~ MKT_RF + SMB + HML + RMW + CMA'\n",
    "  model = sm.formula.ols(formula = regeq, data = anom_5fac).fit()\n",
    "  alpha[i] = abs(model.params[0])\n",
    "  tval[i] = abs(model.tvalues[0])\n",
    "\n",
    "print('Average absolute value of alpha is {:.2f}%'.format(np.mean(alpha)))\n",
    "print('Average absolute value of t-statistics is {:.2f}'.format(np.mean(tval)))\n",
    "print('Ratio of significant alpha is {:.2%}'.format(sum(map(lambda t : t > 2, tval))/nanom))"
   ]
  },
  {
   "cell_type": "code",
   "execution_count": 7,
   "metadata": {
    "colab": {
     "base_uri": "https://localhost:8080/",
     "height": 587
    },
    "executionInfo": {
     "elapsed": 566,
     "status": "ok",
     "timestamp": 1679377605666,
     "user": {
      "displayName": "Sang-Ook Shin",
      "userId": "07237378072833558059"
     },
     "user_tz": -540
    },
    "id": "HCljEYks9T07",
    "outputId": "cad2f67e-f4d9-4e98-8eee-c0412db0476b"
   },
   "outputs": [
    {
     "name": "stderr",
     "output_type": "stream",
     "text": [
      "/var/folders/db/bpz0hmcx5zq0d724jv46hmq40000gn/T/ipykernel_34044/1107918873.py:7: UserWarning: FixedFormatter should only be used together with FixedLocator\n",
      "  plt.gca().set_yticklabels(['{:.2f}'.format(x) for x in y_tick])\n"
     ]
    },
    {
     "data": {
      "image/png": "[encoded data removed]",
      "text/plain": [
       "<Figure size 432x288 with 1 Axes>"
      ]
     },
     "metadata": {
      "needs_background": "light"
     },
     "output_type": "display_data"
    },
    {
     "name": "stderr",
     "output_type": "stream",
     "text": [
      "/var/folders/db/bpz0hmcx5zq0d724jv46hmq40000gn/T/ipykernel_34044/1107918873.py:16: UserWarning: FixedFormatter should only be used together with FixedLocator\n",
      "  plt.gca().set_yticklabels(['{:.2f}'.format(x) for x in y_tick])\n"
     ]
    },
    {
     "data": {
      "image/png": "[encoded data removed]",
      "text/plain": [
       "<Figure size 432x288 with 1 Axes>"
      ]
     },
     "metadata": {
      "needs_background": "light"
     },
     "output_type": "display_data"
    }
   ],
   "source": [
    "# Draw plot of alphas\n",
    "x_axis = list(range(1,nanom+1))\n",
    "x_axis\n",
    "plt.plot(x_axis, alpha, 'o')\n",
    "plt.ylabel('Abnormal Returns (%)')\n",
    "y_tick = plt.gca().get_yticks()\n",
    "plt.gca().set_yticklabels(['{:.2f}'.format(x) for x in y_tick])\n",
    "plt.show()\n",
    "\n",
    "# Draw plot of t-statistics\n",
    "x_axis = list(range(1,nanom+1))\n",
    "x_axis\n",
    "plt.plot(x_axis, tval, 'o')\n",
    "plt.ylabel('t-statistics')\n",
    "y_tick = plt.gca().get_yticks()\n",
    "plt.gca().set_yticklabels(['{:.2f}'.format(x) for x in y_tick])\n",
    "plt.show()"
   ]
  }
 ],
 "metadata": {
  "colab": {
   "provenance": [
    {
     "file_id": "https://github.com/jimsjoo/gilbut_portfolio/blob/master/6%EC%9E%A5_%ED%8C%8C%EB%A7%88_%ED%94%84%EB%A0%8C%EC%B9%98_%EB%AA%A8%EB%8D%B8.ipynb",
     "timestamp": 1663333586655
    }
   ]
  },
  "kernelspec": {
   "display_name": "Python 3 (ipykernel)",
   "language": "python",
   "name": "python3"
  },
  "language_info": {
   "codemirror_mode": {
    "name": "ipython",
    "version": 3
   },
   "file_extension": ".py",
   "mimetype": "text/x-python",
   "name": "python",
   "nbconvert_exporter": "python",
   "pygments_lexer": "ipython3",
   "version": "3.9.12"
  }
 },
 "nbformat": 4,
 "nbformat_minor": 1
}

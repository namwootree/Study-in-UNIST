{
 "cells": [
  {
   "cell_type": "code",
   "execution_count": 5,
   "metadata": {
    "executionInfo": {
     "elapsed": 2541,
     "status": "ok",
     "timestamp": 1678685623878,
     "user": {
      "displayName": "Sang-Ook Shin",
      "userId": "07237378072833558059"
     },
     "user_tz": -540
    },
    "id": "_WXAo0DJNhzu"
   },
   "outputs": [],
   "source": [
    "# Importing necessary packages\n",
    "import pandas as pd # python's data handling package\n",
    "import numpy as np # python's scientific computing package\n",
    "import matplotlib.pyplot as plt # python's plotting package\n",
    "from sklearn.metrics import mean_squared_error as mse\n",
    "import matplotlib.pyplot as plt"
   ]
  },
  {
   "cell_type": "code",
   "execution_count": 6,
   "metadata": {
    "colab": {
     "base_uri": "https://localhost:8080/"
    },
    "executionInfo": {
     "elapsed": 22710,
     "status": "ok",
     "timestamp": 1678685648321,
     "user": {
      "displayName": "Sang-Ook Shin",
      "userId": "07237378072833558059"
     },
     "user_tz": -540
    },
    "id": "GG09UhxTNrbS",
    "outputId": "6f2f4e84-274a-4dce-a31b-7d2bdaee6a3f"
   },
   "outputs": [],
   "source": [
    "filename = '/Users/namwoo/Desktop/UNIST/lecture/1-1/인공지능을 활용한 금융시장 분석/mom_monthly_2021/portf_abr_1_monthly_2021.csv'"
   ]
  },
  {
   "cell_type": "code",
   "execution_count": 7,
   "metadata": {
    "colab": {
     "base_uri": "https://localhost:8080/"
    },
    "executionInfo": {
     "elapsed": 1590,
     "status": "ok",
     "timestamp": 1678685695715,
     "user": {
      "displayName": "Sang-Ook Shin",
      "userId": "07237378072833558059"
     },
     "user_tz": -540
    },
    "id": "9eR0v7-jTFZL",
    "outputId": "a06e966e-5add-4ae3-bb99-e5f40d39e391",
    "scrolled": true
   },
   "outputs": [
    {
     "name": "stdout",
     "output_type": "stream",
     "text": [
      "      year  month  rank_Abr_1  nstocks  ret_vw  day       date\n",
      "0     1972      1           1      143  4.0232    1 1972-01-01\n",
      "1     1972      1           2      144  2.7930    1 1972-01-01\n",
      "2     1972      1           3      142  1.1326    1 1972-01-01\n",
      "3     1972      1           4      129  2.5440    1 1972-01-01\n",
      "4     1972      1           5      126  2.1623    1 1972-01-01\n",
      "...    ...    ...         ...      ...     ...  ...        ...\n",
      "5995  2021     12           6      251  3.7589    1 2021-12-01\n",
      "5996  2021     12           7      236  6.1897    1 2021-12-01\n",
      "5997  2021     12           8      270  0.8302    1 2021-12-01\n",
      "5998  2021     12           9      310  3.9513    1 2021-12-01\n",
      "5999  2021     12          10      348 -2.8593    1 2021-12-01\n",
      "\n",
      "[6000 rows x 7 columns]\n"
     ]
    }
   ],
   "source": [
    "df = pd.read_csv(filename)\n",
    "df['day'] = 1\n",
    "df['date'] = pd.to_datetime(df[['year','month','day']]) # date in datetime format\n",
    "# df['date'] = df['year']*100+df['month']\n",
    "max_rank = df.iloc[:, 2].max() # portfolios may have different numbers of groups.\n",
    "min_rank = df.iloc[:, 2].min() # portfolios may have different numbers of groups.\n",
    "print(df)"
   ]
  },
  {
   "cell_type": "code",
   "execution_count": 9,
   "metadata": {},
   "outputs": [
    {
     "name": "stdout",
     "output_type": "stream",
     "text": [
      "10\n",
      "1\n"
     ]
    }
   ],
   "source": [
    "print(max_rank)\n",
    "print(min_rank)"
   ]
  },
  {
   "cell_type": "code",
   "execution_count": 8,
   "metadata": {
    "colab": {
     "base_uri": "https://localhost:8080/"
    },
    "executionInfo": {
     "elapsed": 281,
     "status": "ok",
     "timestamp": 1678685761795,
     "user": {
      "displayName": "Sang-Ook Shin",
      "userId": "07237378072833558059"
     },
     "user_tz": -540
    },
    "id": "m529xRd5S1lb",
    "outputId": "36e9829f-1766-48eb-fee7-5c0d30403557"
   },
   "outputs": [
    {
     "name": "stdout",
     "output_type": "stream",
     "text": [
      "          date  ret_vw_hml\n",
      "0   1972-01-01      1.8923\n",
      "1   1972-02-01     -1.2569\n",
      "2   1972-03-01      3.9558\n",
      "3   1972-04-01      2.9743\n",
      "4   1972-05-01      0.1159\n",
      "..         ...         ...\n",
      "595 2021-08-01     -0.6604\n",
      "596 2021-09-01      1.3965\n",
      "597 2021-10-01      2.4916\n",
      "598 2021-11-01      3.0694\n",
      "599 2021-12-01     -2.5158\n",
      "\n",
      "[600 rows x 2 columns]\n"
     ]
    }
   ],
   "source": [
    "df_high = df[df.iloc[:, 2]==max_rank]\n",
    "df_low  = df[df.iloc[:, 2]==min_rank]\n",
    "\n",
    "df_hml = pd.merge(df_high.drop(columns=['year','month','nstocks']),df_low.drop(columns=['year','month','nstocks']),on='date')\n",
    "df_hml['ret_vw_hml'] = df_hml['ret_vw_x'] - df_hml['ret_vw_y']\n",
    "df_output = df_hml[['date','ret_vw_hml']] # keep only date and return\n",
    "print(df_output)"
   ]
  }
 ],
 "metadata": {
  "colab": {
   "authorship_tag": "ABX9TyP56OcXhbysIktP1R5mbt9/",
   "provenance": []
  },
  "kernelspec": {
   "display_name": "Python 3 (ipykernel)",
   "language": "python",
   "name": "python3"
  },
  "language_info": {
   "codemirror_mode": {
    "name": "ipython",
    "version": 3
   },
   "file_extension": ".py",
   "mimetype": "text/x-python",
   "name": "python",
   "nbconvert_exporter": "python",
   "pygments_lexer": "ipython3",
   "version": "3.9.12"
  }
 },
 "nbformat": 4,
 "nbformat_minor": 1
}

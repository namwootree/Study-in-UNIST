{
 "cells": [
  {
   "cell_type": "markdown",
   "metadata": {
    "id": "uOCDT-ix2HVB"
   },
   "source": [
    "### Python Essentials\n",
    "\n",
    "\n",
    "1. Variable\n",
    "2. Data Structure\n",
    "3. Operator\n",
    "4. Flow Control\n",
    "5. Function\n",
    "\n",
    "\n"
   ]
  },
  {
   "cell_type": "markdown",
   "metadata": {
    "id": "suN-7FVVU9Yi"
   },
   "source": [
    "# 1. Variable"
   ]
  },
  {
   "cell_type": "code",
   "execution_count": 1,
   "metadata": {
    "id": "mtT0HfzE94og"
   },
   "outputs": [],
   "source": [
    "# A variable is an element that stores a value, such as a number or string. \n",
    "# It is created when the program starts, and memory is allocated when a value is entered.\n",
    "# When the program ends, the allocated memory is returned to the system.\n",
    "\n",
    "# In Python (like other programming languages), \"=\" is used to enter, or assign, the value of a variable.\n",
    "# Variable names can start with an alphabetic or underscore (_) character."
   ]
  },
  {
   "cell_type": "code",
   "execution_count": 2,
   "metadata": {
    "colab": {
     "base_uri": "https://localhost:8080/"
    },
    "executionInfo": {
     "elapsed": 5,
     "status": "ok",
     "timestamp": 1677837461556,
     "user": {
      "displayName": "Sang-Ook Shin",
      "userId": "07237378072833558059"
     },
     "user_tz": -540
    },
    "id": "IzcZjkWc-Ct0",
    "outputId": "1130e914-e082-48b0-c528-da92d3368527"
   },
   "outputs": [
    {
     "name": "stdout",
     "output_type": "stream",
     "text": [
      "123.456 <class 'float'>\n",
      "123456 <class 'int'>\n"
     ]
    }
   ],
   "source": [
    "# 1_1 Numeric variable\n",
    "\n",
    "a = 123.456 # real number (float)\n",
    "b = 123456  # integer\n",
    "print(a, type(a))\n",
    "print(b, type(b))"
   ]
  },
  {
   "cell_type": "code",
   "execution_count": 3,
   "metadata": {
    "executionInfo": {
     "elapsed": 1,
     "status": "ok",
     "timestamp": 1677837661409,
     "user": {
      "displayName": "Sang-Ook Shin",
      "userId": "07237378072833558059"
     },
     "user_tz": -540
    },
    "id": "QB6TfbRf-S8U"
   },
   "outputs": [],
   "source": [
    "# 1_2 String variable\n",
    "# A string variable can be created using single quotation marks ('...') or double quotation marks (\"....\").\n",
    "\n",
    "a = 'finance' \n",
    "b = \"finance\" \n",
    "c = '\"finance\"' \n",
    "d = \"'finance'\" "
   ]
  },
  {
   "cell_type": "code",
   "execution_count": 4,
   "metadata": {
    "colab": {
     "base_uri": "https://localhost:8080/"
    },
    "executionInfo": {
     "elapsed": 6,
     "status": "ok",
     "timestamp": 1677837662777,
     "user": {
      "displayName": "Sang-Ook Shin",
      "userId": "07237378072833558059"
     },
     "user_tz": -540
    },
    "id": "EyXlFnh36pqd",
    "outputId": "cae649ff-f578-4c19-a65d-256f01f85236"
   },
   "outputs": [
    {
     "name": "stdout",
     "output_type": "stream",
     "text": [
      "finance <class 'str'>\n",
      "finance <class 'str'>\n",
      "\"finance\" <class 'str'>\n",
      "'finance' <class 'str'>\n"
     ]
    }
   ],
   "source": [
    "print(a, type(a))\n",
    "print(b, type(b))\n",
    "print(c, type(c))\n",
    "print(d, type(d))"
   ]
  },
  {
   "cell_type": "code",
   "execution_count": 5,
   "metadata": {
    "colab": {
     "base_uri": "https://localhost:8080/"
    },
    "executionInfo": {
     "elapsed": 402,
     "status": "ok",
     "timestamp": 1677837768987,
     "user": {
      "displayName": "Sang-Ook Shin",
      "userId": "07237378072833558059"
     },
     "user_tz": -540
    },
    "id": "dcifZlzr-YEU",
    "outputId": "3d77abbe-ea30-4e8f-c150-aafe7def4e83"
   },
   "outputs": [
    {
     "name": "stdout",
     "output_type": "stream",
     "text": [
      "123.456 <class 'str'>\n"
     ]
    }
   ],
   "source": [
    "# 123.456 is numeric, while '123.456' is a string.\n",
    "e = '123.456'\n",
    "print(e, type(e))"
   ]
  },
  {
   "cell_type": "markdown",
   "metadata": {
    "id": "XdhkKWLWVTPF"
   },
   "source": [
    "# 2. Data Structure"
   ]
  },
  {
   "cell_type": "code",
   "execution_count": 6,
   "metadata": {
    "id": "6Ajat_mIELKM"
   },
   "outputs": [],
   "source": [
    "# Data structures are the fundamental constructs around which you build your programs. \n",
    "# Each data structure provides a particular way of organizing data so it can be accessed efficiently, depending on your use case.\n",
    "# Most popular data structures in Python: list, tuple, and dictionary."
   ]
  },
  {
   "cell_type": "code",
   "execution_count": 7,
   "metadata": {
    "executionInfo": {
     "elapsed": 526,
     "status": "ok",
     "timestamp": 1677841484623,
     "user": {
      "displayName": "Sang-Ook Shin",
      "userId": "07237378072833558059"
     },
     "user_tz": -540
    },
    "id": "v3tsO58gEPC0"
   },
   "outputs": [],
   "source": [
    "# 2_1 List\n",
    "# List is a data structure used to store various types of variables.\n",
    "# It is easy to change items, such as add, delete, update, etc. \n",
    "# It is defined with brackets [], and elements in the list are separated by commas (,).\n",
    "\n",
    "# Create an empty list\n",
    "a_list = []\n",
    "\n",
    "# Create a list with items\n",
    "b_list = [1,2,3,4,5,6]\n",
    "\n",
    "# Concatenate the two lists into one list\n",
    "c_list = [1,2,3] + [4,5,6]\n",
    "\n",
    "# Create a list where the list [1,2,3] is repeated twice. \n",
    "# In this case, * is not multiplication.\n",
    "d_list = [1,2,3]*2"
   ]
  },
  {
   "cell_type": "code",
   "execution_count": 8,
   "metadata": {
    "colab": {
     "base_uri": "https://localhost:8080/"
    },
    "executionInfo": {
     "elapsed": 5,
     "status": "ok",
     "timestamp": 1677840573083,
     "user": {
      "displayName": "Sang-Ook Shin",
      "userId": "07237378072833558059"
     },
     "user_tz": -540
    },
    "id": "wPXvLei7ESjQ",
    "outputId": "decf93f1-e35a-4c2a-b075-534483d7abc8"
   },
   "outputs": [
    {
     "name": "stdout",
     "output_type": "stream",
     "text": [
      "[] <class 'list'>\n",
      "[1, 2, 3, 4, 5, 6]\n",
      "[1, 2, 3, 4, 5, 6]\n",
      "[1, 2, 3, 1, 2, 3]\n",
      "The number of items in b_list = 6\n"
     ]
    }
   ],
   "source": [
    "print(a_list, type(a_list))\n",
    "print(b_list)\n",
    "print(c_list)\n",
    "print(d_list)\n",
    "print('The number of items in b_list =', len(b_list)) # len() returns the length of list"
   ]
  },
  {
   "cell_type": "code",
   "execution_count": 9,
   "metadata": {
    "colab": {
     "base_uri": "https://localhost:8080/"
    },
    "executionInfo": {
     "elapsed": 2,
     "status": "ok",
     "timestamp": 1677839508859,
     "user": {
      "displayName": "Sang-Ook Shin",
      "userId": "07237378072833558059"
     },
     "user_tz": -540
    },
    "id": "pCaw6i8TEeFQ",
    "outputId": "3fae7558-cbba-426c-cfac-efcac06ee9f6"
   },
   "outputs": [
    {
     "name": "stdout",
     "output_type": "stream",
     "text": [
      "1\n",
      "2\n",
      "6\n",
      "5\n"
     ]
    }
   ],
   "source": [
    "# 2_1_1 Index\n",
    "# Each item in the list has an index starting from 0.\n",
    "# We can get or update only particular values using indexing.\n",
    "# A negative value implies indexing from the end. \n",
    "\n",
    "a_list = [1,2,3,4,5,6]\n",
    "\n",
    "print(a_list[0])\n",
    "print(a_list[1])\n",
    "print(a_list[-1])\n",
    "print(a_list[-2])"
   ]
  },
  {
   "cell_type": "code",
   "execution_count": 10,
   "metadata": {
    "colab": {
     "base_uri": "https://localhost:8080/"
    },
    "executionInfo": {
     "elapsed": 5,
     "status": "ok",
     "timestamp": 1677839850992,
     "user": {
      "displayName": "Sang-Ook Shin",
      "userId": "07237378072833558059"
     },
     "user_tz": -540
    },
    "id": "Oi9Ne7MzEnhY",
    "outputId": "fd7cbc74-3341-4282-8285-809420bed443"
   },
   "outputs": [
    {
     "name": "stdout",
     "output_type": "stream",
     "text": [
      "[1, 2]\n",
      "[1, 2]\n",
      "[3, 4, 5, 6]\n"
     ]
    }
   ],
   "source": [
    "# 2_1_2 Slice\n",
    "# Format: list_name[start index:end index]\n",
    "\n",
    "a_list = [1,2,3,4,5,6]\n",
    "\n",
    "# Slice the items from index 0 to before 2.\n",
    "print(a_list[0:2])\n",
    "\n",
    "# If the start index is omitted, start from 0.\n",
    "print(a_list[:2])\n",
    "\n",
    "# If the end index is omitted, end at -1.\n",
    "print(a_list[2:])"
   ]
  },
  {
   "cell_type": "code",
   "execution_count": 11,
   "metadata": {
    "colab": {
     "base_uri": "https://localhost:8080/",
     "height": 182
    },
    "executionInfo": {
     "elapsed": 456,
     "status": "error",
     "timestamp": 1677840088196,
     "user": {
      "displayName": "Sang-Ook Shin",
      "userId": "07237378072833558059"
     },
     "user_tz": -540
    },
    "id": "fPYVCkxoEr78",
    "outputId": "f19d8e7d-f99d-40be-aa61-5a38b0b749f9"
   },
   "outputs": [
    {
     "name": "stdout",
     "output_type": "stream",
     "text": [
      "[1, 2, 4, 4, 5, 6]\n",
      "[1, 4, 4, 5, 6]\n",
      "[1, 4]\n"
     ]
    },
    {
     "ename": "NameError",
     "evalue": "name 'a_list' is not defined",
     "output_type": "error",
     "traceback": [
      "\u001b[0;31m---------------------------------------------------------------------------\u001b[0m",
      "\u001b[0;31mNameError\u001b[0m                                 Traceback (most recent call last)",
      "Input \u001b[0;32mIn [11]\u001b[0m, in \u001b[0;36m<cell line: 19>\u001b[0;34m()\u001b[0m\n\u001b[1;32m     17\u001b[0m \u001b[38;5;66;03m# The whole list can also be deleted\u001b[39;00m\n\u001b[1;32m     18\u001b[0m \u001b[38;5;28;01mdel\u001b[39;00m a_list\n\u001b[0;32m---> 19\u001b[0m \u001b[38;5;28mprint\u001b[39m(\u001b[43ma_list\u001b[49m)\n",
      "\u001b[0;31mNameError\u001b[0m: name 'a_list' is not defined"
     ]
    }
   ],
   "source": [
    "# 2_1_3 Update\n",
    "\n",
    "a_list = [1,2,3,4,5,6]\n",
    "\n",
    "# Change the item 3 to 4\n",
    "a_list[2] = 4\n",
    "print(a_list)\n",
    "\n",
    "# To delete, use the del function.\n",
    "del a_list[1]\n",
    "print(a_list)\n",
    "\n",
    "# Delete from the 3rd item to the end\n",
    "del a_list[2:]\n",
    "print(a_list)\n",
    "\n",
    "# The whole list can also be deleted\n",
    "del a_list\n",
    "print(a_list) # error occurred"
   ]
  },
  {
   "cell_type": "code",
   "execution_count": null,
   "metadata": {
    "colab": {
     "base_uri": "https://localhost:8080/"
    },
    "executionInfo": {
     "elapsed": 389,
     "status": "ok",
     "timestamp": 1677840934914,
     "user": {
      "displayName": "Sang-Ook Shin",
      "userId": "07237378072833558059"
     },
     "user_tz": -540
    },
    "id": "deDhuw3yHSbr",
    "outputId": "002c1bf2-0903-4296-a3d0-3aa8282ace18"
   },
   "outputs": [],
   "source": [
    "# 2_2 Tuple\n",
    "# Tuple is similar to a list, but cannot be changed.\n",
    "# Tuple can be defined with parentheses ()\n",
    "# Immutability (not chagable) seems disadvantageous, but it can also be advantageous. \n",
    "# If you have a data structure in which items should not be changed while the program is running, tuples can be a good choice.\n",
    "# Tuple can be indexed and sliced like list.\n",
    "\n",
    "a_tuple = ()\n",
    "b_tuple = (1,2,3,4,5,6)\n",
    "c_tuple = 1,2,3,4,5,6 # possible to define without parentheses ()\n",
    "\n",
    "print(a_tuple)\n",
    "print(b_tuple)\n",
    "print(c_tuple)\n",
    "print('The length of tuple =', len(b_tuple))"
   ]
  },
  {
   "cell_type": "code",
   "execution_count": 12,
   "metadata": {
    "colab": {
     "base_uri": "https://localhost:8080/"
    },
    "executionInfo": {
     "elapsed": 385,
     "status": "ok",
     "timestamp": 1677841539182,
     "user": {
      "displayName": "Sang-Ook Shin",
      "userId": "07237378072833558059"
     },
     "user_tz": -540
    },
    "id": "2prV3ud0JCQC",
    "outputId": "02aeb6e8-6f7c-436a-eef6-4bb7d2134764"
   },
   "outputs": [
    {
     "name": "stdout",
     "output_type": "stream",
     "text": [
      "{'one': 1, 'two': 2, 'three': 3, 'four': 4, 'five': 5, 'six': 6}\n"
     ]
    }
   ],
   "source": [
    "# 2_3 Dictionary\n",
    "# Dictionary is used to store data values in key:value pairs (like a word dictionary).\n",
    "# Dictionay can be defined with curly brackets {}. \n",
    "# Dictionary is a collection which is ordered and changeable, and does not allow duplicates in keys.\n",
    "\n",
    "# Create a dictionary in the form of {key:value} inside {}\n",
    "a_dict = {'one':1, 'two':2, 'three':3, 'four':4, 'five':5, 'six':6}\n",
    "print(a_dict)"
   ]
  },
  {
   "cell_type": "code",
   "execution_count": 13,
   "metadata": {
    "colab": {
     "base_uri": "https://localhost:8080/"
    },
    "executionInfo": {
     "elapsed": 6,
     "status": "ok",
     "timestamp": 1677841541704,
     "user": {
      "displayName": "Sang-Ook Shin",
      "userId": "07237378072833558059"
     },
     "user_tz": -540
    },
    "id": "occ8J0rMLdqs",
    "outputId": "bf7508b0-5d92-4a28-c967-09c399bf936c"
   },
   "outputs": [
    {
     "name": "stdout",
     "output_type": "stream",
     "text": [
      "{'one': 1, 'two': 2, 'three': 3, 'four': 4, 'five': 5, 'six': 6, 'seven': 8}\n"
     ]
    }
   ],
   "source": [
    "# To add a new item to a dictionary, use the new key to assign the new value.\n",
    "a_dict['seven'] = 8\n",
    "print(a_dict)"
   ]
  },
  {
   "cell_type": "code",
   "execution_count": 14,
   "metadata": {
    "colab": {
     "base_uri": "https://localhost:8080/"
    },
    "executionInfo": {
     "elapsed": 5,
     "status": "ok",
     "timestamp": 1677841544752,
     "user": {
      "displayName": "Sang-Ook Shin",
      "userId": "07237378072833558059"
     },
     "user_tz": -540
    },
    "id": "Ztg9RhdmLgOQ",
    "outputId": "c250b16e-d1dc-4987-d29d-68aebc03586d"
   },
   "outputs": [
    {
     "name": "stdout",
     "output_type": "stream",
     "text": [
      "{'one': 1, 'two': 2, 'three': 3, 'four': 4, 'five': 5, 'six': 6, 'seven': 7}\n"
     ]
    }
   ],
   "source": [
    "# Update dictionary: Key - 'seven' / Value - '7'\n",
    "a_dict['seven'] = 7\n",
    "print(a_dict)"
   ]
  },
  {
   "cell_type": "code",
   "execution_count": 15,
   "metadata": {
    "colab": {
     "base_uri": "https://localhost:8080/"
    },
    "executionInfo": {
     "elapsed": 6,
     "status": "ok",
     "timestamp": 1677841579359,
     "user": {
      "displayName": "Sang-Ook Shin",
      "userId": "07237378072833558059"
     },
     "user_tz": -540
    },
    "id": "n19E1zGHLi8I",
    "outputId": "f8a1a230-1c39-4002-fe9d-f3a52107bd08"
   },
   "outputs": [
    {
     "name": "stdout",
     "output_type": "stream",
     "text": [
      "{'two': 2, 'three': 3, 'four': 4, 'five': 5, 'six': 6, 'seven': 7}\n"
     ]
    }
   ],
   "source": [
    "# The key is also used to delete an item.\n",
    "del a_dict['one']\n",
    "print(a_dict)"
   ]
  },
  {
   "cell_type": "code",
   "execution_count": 16,
   "metadata": {
    "colab": {
     "base_uri": "https://localhost:8080/"
    },
    "executionInfo": {
     "elapsed": 3,
     "status": "ok",
     "timestamp": 1677841762747,
     "user": {
      "displayName": "Sang-Ook Shin",
      "userId": "07237378072833558059"
     },
     "user_tz": -540
    },
    "id": "lIfU3WXrLo_F",
    "outputId": "f3362252-8789-4d28-f7e6-ec2a83b7de88"
   },
   "outputs": [
    {
     "name": "stdout",
     "output_type": "stream",
     "text": [
      "dict_keys(['two', 'three', 'four', 'five', 'six', 'seven']) <class 'dict_keys'>\n",
      "two\n",
      "three\n",
      "four\n",
      "five\n",
      "six\n",
      "seven\n"
     ]
    }
   ],
   "source": [
    "# To get all keys in a dictionary, use the keys function.\n",
    "keys = a_dict.keys()\n",
    "print(keys, type(keys))\n",
    "for k in keys:\n",
    "   print(k)"
   ]
  },
  {
   "cell_type": "code",
   "execution_count": 17,
   "metadata": {
    "colab": {
     "base_uri": "https://localhost:8080/"
    },
    "executionInfo": {
     "elapsed": 385,
     "status": "ok",
     "timestamp": 1677841791835,
     "user": {
      "displayName": "Sang-Ook Shin",
      "userId": "07237378072833558059"
     },
     "user_tz": -540
    },
    "id": "Pv-HnqRuzyfP",
    "outputId": "c89d8082-58f6-42f9-a5fb-aee026de1ba5"
   },
   "outputs": [
    {
     "name": "stdout",
     "output_type": "stream",
     "text": [
      "dict_values([2, 3, 4, 5, 6, 7]) <class 'dict_values'>\n",
      "2\n",
      "3\n",
      "4\n",
      "5\n",
      "6\n",
      "7\n"
     ]
    }
   ],
   "source": [
    "# To get all the values of a dictionary, use the values function.\n",
    "values = a_dict.values()\n",
    "print(values, type(values))\n",
    "for v in values:\n",
    "   print(v)"
   ]
  },
  {
   "cell_type": "code",
   "execution_count": 18,
   "metadata": {
    "colab": {
     "base_uri": "https://localhost:8080/"
    },
    "executionInfo": {
     "elapsed": 5,
     "status": "ok",
     "timestamp": 1677841857992,
     "user": {
      "displayName": "Sang-Ook Shin",
      "userId": "07237378072833558059"
     },
     "user_tz": -540
    },
    "id": "P_AmjqMpz0mG",
    "outputId": "5bc31c0a-cedb-4189-e50e-8d7bbe414701"
   },
   "outputs": [
    {
     "name": "stdout",
     "output_type": "stream",
     "text": [
      "dict_items([('two', 2), ('three', 3), ('four', 4), ('five', 5), ('six', 6), ('seven', 7)]) <class 'dict_items'>\n",
      "two 2\n",
      "three 3\n",
      "four 4\n",
      "five 5\n",
      "six 6\n",
      "seven 7\n"
     ]
    }
   ],
   "source": [
    "# To get both the keys and values of a dictionary, use the items function.\n",
    "items = a_dict.items()\n",
    "print(items, type(items))\n",
    "for k, v in items:\n",
    "   print(k, v)"
   ]
  },
  {
   "cell_type": "code",
   "execution_count": 19,
   "metadata": {
    "colab": {
     "base_uri": "https://localhost:8080/"
    },
    "executionInfo": {
     "elapsed": 5,
     "status": "ok",
     "timestamp": 1677841921823,
     "user": {
      "displayName": "Sang-Ook Shin",
      "userId": "07237378072833558059"
     },
     "user_tz": -540
    },
    "id": "V167EAt-z7Ci",
    "outputId": "3eafd089-7935-45b8-906c-3360b7bb022b"
   },
   "outputs": [
    {
     "name": "stdout",
     "output_type": "stream",
     "text": [
      "True\n",
      "False\n"
     ]
    }
   ],
   "source": [
    "# Use in to check if a key exists in a dictionary.\n",
    "# True if the key exists, False otherwise.\n",
    "print('six' in a_dict)\n",
    "print('eight' in a_dict)"
   ]
  },
  {
   "cell_type": "markdown",
   "metadata": {
    "id": "fq0k9swqVdNH"
   },
   "source": [
    "# 3. Operator"
   ]
  },
  {
   "cell_type": "code",
   "execution_count": 20,
   "metadata": {
    "colab": {
     "base_uri": "https://localhost:8080/"
    },
    "executionInfo": {
     "elapsed": 7,
     "status": "ok",
     "timestamp": 1677843508679,
     "user": {
      "displayName": "Sang-Ook Shin",
      "userId": "07237378072833558059"
     },
     "user_tz": -540
    },
    "id": "-CkNADXVz9CD",
    "outputId": "a43f1bdd-b477-449b-d29b-26b9420be113"
   },
   "outputs": [
    {
     "name": "stdout",
     "output_type": "stream",
     "text": [
      "1\n"
     ]
    }
   ],
   "source": [
    "# Assignment\n",
    "a = 1\n",
    "print(a)"
   ]
  },
  {
   "cell_type": "code",
   "execution_count": 21,
   "metadata": {
    "colab": {
     "base_uri": "https://localhost:8080/"
    },
    "executionInfo": {
     "elapsed": 7,
     "status": "ok",
     "timestamp": 1677843513934,
     "user": {
      "displayName": "Sang-Ook Shin",
      "userId": "07237378072833558059"
     },
     "user_tz": -540
    },
    "id": "JhgRVwcG3Cjq",
    "outputId": "ea6be973-db83-4e6b-c100-28a64e827572"
   },
   "outputs": [
    {
     "name": "stdout",
     "output_type": "stream",
     "text": [
      "add       = 3\n",
      "substract = -1\n",
      "multiply  = 2\n",
      "divide    = 0.5\n"
     ]
    }
   ],
   "source": [
    "# Arithmetic operations\n",
    "a = 1\n",
    "b = 2\n",
    "print('add       =', a + b)\n",
    "print('substract =', a - b)\n",
    "print('multiply  =', a * b)\n",
    "print('divide    =', a / b)"
   ]
  },
  {
   "cell_type": "code",
   "execution_count": 22,
   "metadata": {
    "id": "VFJu-AZqRial"
   },
   "outputs": [
    {
     "name": "stdout",
     "output_type": "stream",
     "text": [
      "3.3333333333333335\n",
      "3\n",
      "1\n"
     ]
    }
   ],
   "source": [
    "print(10 / 3) # division\n",
    "print(10 //3) # quotient of division\n",
    "print(10 % 3) # remainder of division"
   ]
  },
  {
   "cell_type": "code",
   "execution_count": 23,
   "metadata": {
    "colab": {
     "base_uri": "https://localhost:8080/"
    },
    "executionInfo": {
     "elapsed": 3,
     "status": "ok",
     "timestamp": 1677843548246,
     "user": {
      "displayName": "Sang-Ook Shin",
      "userId": "07237378072833558059"
     },
     "user_tz": -540
    },
    "id": "YKaP0PDa3Fs-",
    "outputId": "3ed80ae7-eadf-4d99-b6e7-ad2aa21baef4"
   },
   "outputs": [
    {
     "name": "stdout",
     "output_type": "stream",
     "text": [
      "squared = 9\n"
     ]
    }
   ],
   "source": [
    "# Power\n",
    "c = 3\n",
    "print('squared =', c**2)"
   ]
  },
  {
   "cell_type": "code",
   "execution_count": 24,
   "metadata": {
    "colab": {
     "base_uri": "https://localhost:8080/"
    },
    "executionInfo": {
     "elapsed": 489,
     "status": "ok",
     "timestamp": 1677843782884,
     "user": {
      "displayName": "Sang-Ook Shin",
      "userId": "07237378072833558059"
     },
     "user_tz": -540
    },
    "id": "-oFgyaiS3QWp",
    "outputId": "40287985-835f-4ac5-ddc0-2337979eafa2"
   },
   "outputs": [
    {
     "name": "stdout",
     "output_type": "stream",
     "text": [
      "True\n",
      "False\n",
      "True\n",
      "False\n",
      "False\n",
      "True\n"
     ]
    }
   ],
   "source": [
    "# Comparison (returns a boolean value, \"True\" or \"False\")\n",
    "\n",
    "# few examples \n",
    "print(1<2)\n",
    "print(1>2)\n",
    "print(1<=2)\n",
    "print(1>=2)\n",
    "\n",
    "print(1==2)\n",
    "print(1!=2)"
   ]
  },
  {
   "cell_type": "code",
   "execution_count": 25,
   "metadata": {
    "colab": {
     "base_uri": "https://localhost:8080/"
    },
    "executionInfo": {
     "elapsed": 401,
     "status": "ok",
     "timestamp": 1677844435713,
     "user": {
      "displayName": "Sang-Ook Shin",
      "userId": "07237378072833558059"
     },
     "user_tz": -540
    },
    "id": "I-T6Qlat3VZ-",
    "outputId": "9760bac8-8c38-485c-a818-676b5237fe7a"
   },
   "outputs": [
    {
     "name": "stdout",
     "output_type": "stream",
     "text": [
      "True <class 'bool'>\n",
      "False <class 'bool'>\n",
      "False\n",
      "True\n",
      "False\n",
      "True\n"
     ]
    }
   ],
   "source": [
    "# Logical operator\n",
    "T = True\n",
    "F = False\n",
    "print(T, type(T))\n",
    "print(F, type(F))\n",
    "# Negation \n",
    "print(not T)\n",
    "print(not F)\n",
    "# Logical product\n",
    "print(T and F)\n",
    "# Logical sum\n",
    "print(T or F)"
   ]
  },
  {
   "cell_type": "markdown",
   "metadata": {
    "id": "rlZnjkMCVnWV"
   },
   "source": [
    "# 4. Flow Control"
   ]
  },
  {
   "cell_type": "code",
   "execution_count": 26,
   "metadata": {
    "colab": {
     "base_uri": "https://localhost:8080/"
    },
    "executionInfo": {
     "elapsed": 4,
     "status": "ok",
     "timestamp": 1677845108768,
     "user": {
      "displayName": "Sang-Ook Shin",
      "userId": "07237378072833558059"
     },
     "user_tz": -540
    },
    "id": "mXxYRU0C42xv",
    "outputId": "3d3960c6-9bbf-4ce6-e45e-26e778a4645c"
   },
   "outputs": [
    {
     "name": "stdout",
     "output_type": "stream",
     "text": [
      "Total is greater than or equal to 50 and less than 100\n"
     ]
    }
   ],
   "source": [
    "# Normally, program codes are executed from top to bottom.\n",
    "# We can control the flow of codes by using various conditions or loops.\n",
    "\n",
    "# if-else statement\n",
    "\n",
    "# Case 1\n",
    "# if condition:\n",
    "# run codes if condition is true\n",
    "\n",
    "# Case 2\n",
    "# if condition 1:\n",
    "# run codes if condition 1 is true\n",
    "# elif condition 2:\n",
    "# run codes if conditiona 1 is false and condition 2 is true\n",
    "# else:\n",
    "# run codes if both conditions 1 and 2 are false\n",
    "\n",
    "total = 70\n",
    "if total > 100:\n",
    "  print('Total is greater than 100')\n",
    "elif total == 100:\n",
    "  print('Total is 100')\n",
    "elif total >= 50 and total < 100:\n",
    "  print('Total is greater than or equal to 50 and less than 100')\n",
    "else:\n",
    "  print('Total is less than 50')"
   ]
  },
  {
   "cell_type": "code",
   "execution_count": 27,
   "metadata": {
    "colab": {
     "base_uri": "https://localhost:8080/"
    },
    "executionInfo": {
     "elapsed": 7,
     "status": "ok",
     "timestamp": 1677845244271,
     "user": {
      "displayName": "Sang-Ook Shin",
      "userId": "07237378072833558059"
     },
     "user_tz": -540
    },
    "id": "-Mhxe80w8ptn",
    "outputId": "fe4920c0-bdc1-40e0-b669-5af6c46bf397"
   },
   "outputs": [
    {
     "name": "stdout",
     "output_type": "stream",
     "text": [
      "1\n",
      "2\n",
      "3\n",
      "4\n",
      "5\n",
      "6\n",
      "7\n",
      "8\n",
      "9\n"
     ]
    }
   ],
   "source": [
    "# for loop\n",
    "# for loop can execute a block of code a number of times.\n",
    "\n",
    "# for variable in range(start, end):\n",
    "# code block to repeat\n",
    "\n",
    "# Example: for loop that repeats from 1 to 9 (not 10)\n",
    "for x in range(1,10):\n",
    "   print(x)"
   ]
  },
  {
   "cell_type": "code",
   "execution_count": 28,
   "metadata": {
    "colab": {
     "base_uri": "https://localhost:8080/"
    },
    "executionInfo": {
     "elapsed": 400,
     "status": "ok",
     "timestamp": 1677845861578,
     "user": {
      "displayName": "Sang-Ook Shin",
      "userId": "07237378072833558059"
     },
     "user_tz": -540
    },
    "id": "gIMx3huV9PGb",
    "outputId": "0b7dc692-9155-4405-ffaf-d7ffc2892192"
   },
   "outputs": [
    {
     "name": "stdout",
     "output_type": "stream",
     "text": [
      "[1, 2, 3, 4] <class 'list'>\n",
      "The product = 24\n"
     ]
    }
   ],
   "source": [
    "# Example: multiplying numbers in list \n",
    "\n",
    "num_list = list(range(1,5))\n",
    "print(num_list, type(num_list))\n",
    "\n",
    "prod = 1 # initialize\n",
    "\n",
    "# While iterating over the list, b points to each number.\n",
    "for n in num_list:\n",
    "  prod = prod*n\n",
    "  # 1  = 1   *1\n",
    "  # 2  = 1   *2\n",
    "  # 6  = 2   *3\n",
    "  # 24 = 6   *4\n",
    "print('The product =',prod)"
   ]
  },
  {
   "cell_type": "markdown",
   "metadata": {
    "id": "fndLusZ8aIsg"
   },
   "source": [
    "# 5. Function"
   ]
  },
  {
   "cell_type": "code",
   "execution_count": 29,
   "metadata": {
    "executionInfo": {
     "elapsed": 637,
     "status": "ok",
     "timestamp": 1677846467918,
     "user": {
      "displayName": "Sang-Ook Shin",
      "userId": "07237378072833558059"
     },
     "user_tz": -540
    },
    "id": "9ksOBCQi-x8n"
   },
   "outputs": [],
   "source": [
    "# A function is a block of code which only runs when it is called.\n",
    "# Python already defined numerous built-in functions.\n",
    "# We can also create user-defined functions.\n",
    "\n",
    "# Format:\n",
    "# def function name (parameter):\n",
    "# function body\n",
    "\n",
    "# Example 1: create a function which simply returns the string \"Hello World\"\n",
    "def HelloWorld():\n",
    "   return 'Hello World'\n",
    "# Example 2: enter your own message\n",
    "def HelloMessage(msg):\n",
    "   return 'Hello ' + msg"
   ]
  },
  {
   "cell_type": "code",
   "execution_count": 30,
   "metadata": {
    "colab": {
     "base_uri": "https://localhost:8080/"
    },
    "executionInfo": {
     "elapsed": 5,
     "status": "ok",
     "timestamp": 1677846470476,
     "user": {
      "displayName": "Sang-Ook Shin",
      "userId": "07237378072833558059"
     },
     "user_tz": -540
    },
    "id": "VwRHNT2_DscU",
    "outputId": "21a96ff4-6948-480c-8698-1ca2b9a87f33"
   },
   "outputs": [
    {
     "name": "stdout",
     "output_type": "stream",
     "text": [
      "Hello World\n",
      "Hello MARY\n",
      "Hello World\n",
      "Hello MARY\n"
     ]
    }
   ],
   "source": [
    "# calling functions\n",
    "greeting = HelloWorld()\n",
    "print(greeting)\n",
    "\n",
    "greeting = HelloMessage('MARY')\n",
    "print(greeting)\n",
    "\n",
    "print(HelloWorld())\n",
    "print(HelloMessage('MARY'))"
   ]
  },
  {
   "cell_type": "code",
   "execution_count": 31,
   "metadata": {
    "colab": {
     "base_uri": "https://localhost:8080/"
    },
    "executionInfo": {
     "elapsed": 411,
     "status": "ok",
     "timestamp": 1677847162847,
     "user": {
      "displayName": "Sang-Ook Shin",
      "userId": "07237378072833558059"
     },
     "user_tz": -540
    },
    "id": "SJWHx5cDH6Fk",
    "outputId": "67f51170-a562-48f3-9190-ccb127d901e5"
   },
   "outputs": [
    {
     "name": "stdout",
     "output_type": "stream",
     "text": [
      "[1, 2, 3, 4] <class 'list'>\n",
      "['f', 'i', 'n', 'a', 'n', 'c', 'e'] <class 'list'>\n"
     ]
    }
   ],
   "source": [
    "# return can return multiple values, e.g., list.\n",
    "# Example: the function returns the list containing multiple items\n",
    "\n",
    "def x():\n",
    "  return [1,2,3,4]\n",
    "\n",
    "x_list = x()\n",
    "print(x_list, type(x_list))\n",
    "\n",
    "def y():\n",
    "  return list('finance')\n",
    "\n",
    "y_list = y()\n",
    "print(y_list, type(y_list))"
   ]
  },
  {
   "cell_type": "code",
   "execution_count": null,
   "metadata": {},
   "outputs": [],
   "source": []
  },
  {
   "cell_type": "code",
   "execution_count": null,
   "metadata": {},
   "outputs": [],
   "source": []
  }
 ],
 "metadata": {
  "colab": {
   "collapsed_sections": [
    "suN-7FVVU9Yi",
    "XdhkKWLWVTPF"
   ],
   "provenance": []
  },
  "kernelspec": {
   "display_name": "Python 3 (ipykernel)",
   "language": "python",
   "name": "python3"
  },
  "language_info": {
   "codemirror_mode": {
    "name": "ipython",
    "version": 3
   },
   "file_extension": ".py",
   "mimetype": "text/x-python",
   "name": "python",
   "nbconvert_exporter": "python",
   "pygments_lexer": "ipython3",
   "version": "3.9.12"
  }
 },
 "nbformat": 4,
 "nbformat_minor": 1
}

{
 "cells": [
  {
   "cell_type": "code",
   "execution_count": 3,
   "metadata": {},
   "outputs": [
    {
     "name": "stdout",
     "output_type": "stream",
     "text": [
      "Collecting pandas_datareader\n",
      "  Downloading pandas_datareader-0.10.0-py3-none-any.whl (109 kB)\n",
      "\u001b[K     |████████████████████████████████| 109 kB 1.0 MB/s eta 0:00:01\n",
      "\u001b[?25hRequirement already satisfied: pandas>=0.23 in /Users/namwoo/opt/anaconda3/lib/python3.9/site-packages (from pandas_datareader) (1.4.4)\n",
      "Requirement already satisfied: lxml in /Users/namwoo/opt/anaconda3/lib/python3.9/site-packages (from pandas_datareader) (4.8.0)\n",
      "Requirement already satisfied: requests>=2.19.0 in /Users/namwoo/opt/anaconda3/lib/python3.9/site-packages (from pandas_datareader) (2.27.1)\n",
      "Requirement already satisfied: python-dateutil>=2.8.1 in /Users/namwoo/opt/anaconda3/lib/python3.9/site-packages (from pandas>=0.23->pandas_datareader) (2.8.2)\n",
      "Requirement already satisfied: pytz>=2020.1 in /Users/namwoo/opt/anaconda3/lib/python3.9/site-packages (from pandas>=0.23->pandas_datareader) (2021.3)\n",
      "Requirement already satisfied: numpy>=1.18.5 in /Users/namwoo/opt/anaconda3/lib/python3.9/site-packages (from pandas>=0.23->pandas_datareader) (1.21.5)\n",
      "Requirement already satisfied: six>=1.5 in /Users/namwoo/opt/anaconda3/lib/python3.9/site-packages (from python-dateutil>=2.8.1->pandas>=0.23->pandas_datareader) (1.16.0)\n",
      "Requirement already satisfied: urllib3<1.27,>=1.21.1 in /Users/namwoo/opt/anaconda3/lib/python3.9/site-packages (from requests>=2.19.0->pandas_datareader) (1.26.9)\n",
      "Requirement already satisfied: certifi>=2017.4.17 in /Users/namwoo/opt/anaconda3/lib/python3.9/site-packages (from requests>=2.19.0->pandas_datareader) (2022.12.7)\n",
      "Requirement already satisfied: idna<4,>=2.5 in /Users/namwoo/opt/anaconda3/lib/python3.9/site-packages (from requests>=2.19.0->pandas_datareader) (3.3)\n",
      "Requirement already satisfied: charset-normalizer~=2.0.0 in /Users/namwoo/opt/anaconda3/lib/python3.9/site-packages (from requests>=2.19.0->pandas_datareader) (2.0.4)\n",
      "Installing collected packages: pandas-datareader\n",
      "Successfully installed pandas-datareader-0.10.0\n"
     ]
    }
   ],
   "source": [
    "!pip install pandas_datareader"
   ]
  },
  {
   "cell_type": "code",
   "execution_count": 4,
   "metadata": {
    "executionInfo": {
     "elapsed": 2347,
     "status": "ok",
     "timestamp": 1678679829105,
     "user": {
      "displayName": "Sang-Ook Shin",
      "userId": "07237378072833558059"
     },
     "user_tz": -540
    },
    "id": "InQlbRpK6TeE"
   },
   "outputs": [],
   "source": [
    "# Importing necessary packages\n",
    "import pandas as pd # python's data handling package\n",
    "import numpy as np # python's scientific computing package\n",
    "import matplotlib.pyplot as plt # python's plotting package\n",
    "from sklearn.metrics import mean_squared_error as mse\n",
    "import matplotlib.pyplot as plt\n",
    "import statsmodels.api as sm # module for OLS\n",
    "\n",
    "import pandas_datareader.data as web  # module for reading datasets directly from the web\n",
    "import pandas_datareader.famafrench as ff "
   ]
  },
  {
   "cell_type": "code",
   "execution_count": 5,
   "metadata": {
    "colab": {
     "base_uri": "https://localhost:8080/"
    },
    "executionInfo": {
     "elapsed": 657,
     "status": "ok",
     "timestamp": 1678679917212,
     "user": {
      "displayName": "Sang-Ook Shin",
      "userId": "07237378072833558059"
     },
     "user_tz": -540
    },
    "id": "NkVJb4ay5dnb",
    "outputId": "75a75c5d-1a3c-4f30-d515-97a90c4aa963"
   },
   "outputs": [
    {
     "name": "stdout",
     "output_type": "stream",
     "text": [
      "No. of datasets:297\n",
      "['F-F_Research_Data_Factors', 'F-F_Research_Data_Factors_weekly', 'F-F_Research_Data_Factors_daily', 'F-F_Research_Data_5_Factors_2x3', 'F-F_Research_Data_5_Factors_2x3_daily', 'Portfolios_Formed_on_ME', 'Portfolios_Formed_on_ME_Wout_Div', 'Portfolios_Formed_on_ME_Daily', 'Portfolios_Formed_on_BE-ME', 'Portfolios_Formed_on_BE-ME_Wout_Div', 'Portfolios_Formed_on_BE-ME_Daily', 'Portfolios_Formed_on_OP', 'Portfolios_Formed_on_OP_Wout_Div', 'Portfolios_Formed_on_OP_Daily', 'Portfolios_Formed_on_INV', 'Portfolios_Formed_on_INV_Wout_Div', 'Portfolios_Formed_on_INV_Daily', '6_Portfolios_2x3', '6_Portfolios_2x3_Wout_Div', '6_Portfolios_2x3_weekly', '6_Portfolios_2x3_daily', '25_Portfolios_5x5', '25_Portfolios_5x5_Wout_Div', '25_Portfolios_5x5_Daily', '100_Portfolios_10x10', '100_Portfolios_10x10_Wout_Div', '100_Portfolios_10x10_Daily', '6_Portfolios_ME_OP_2x3', '6_Portfolios_ME_OP_2x3_Wout_Div', '6_Portfolios_ME_OP_2x3_daily', '25_Portfolios_ME_OP_5x5', '25_Portfolios_ME_OP_5x5_Wout_Div', '25_Portfolios_ME_OP_5x5_daily', '100_Portfolios_ME_OP_10x10', '100_Portfolios_10x10_ME_OP_Wout_Div', '100_Portfolios_ME_OP_10x10_daily', '6_Portfolios_ME_INV_2x3', '6_Portfolios_ME_INV_2x3_Wout_Div', '6_Portfolios_ME_INV_2x3_daily', '25_Portfolios_ME_INV_5x5', '25_Portfolios_ME_INV_5x5_Wout_Div', '25_Portfolios_ME_INV_5x5_daily', '100_Portfolios_ME_INV_10x10', '100_Portfolios_10x10_ME_INV_Wout_Div', '100_Portfolios_ME_INV_10x10_daily', '25_Portfolios_BEME_OP_5x5', '25_Portfolios_BEME_OP_5x5_Wout_Div', '25_Portfolios_BEME_OP_5x5_daily', '25_Portfolios_BEME_INV_5x5', '25_Portfolios_BEME_INV_5x5_Wout_Div', '25_Portfolios_BEME_INV_5x5_daily', '25_Portfolios_OP_INV_5x5', '25_Portfolios_OP_INV_5x5_Wout_Div', '25_Portfolios_OP_INV_5x5_daily', '32_Portfolios_ME_BEME_OP_2x4x4', '32_Portfolios_ME_BEME_OP_2x4x4_Wout_Div', '32_Portfolios_ME_BEME_INV_2x4x4', '32_Portfolios_ME_BEME_INV_2x4x4_Wout_Div', '32_Portfolios_ME_OP_INV_2x4x4', '32_Portfolios_ME_OP_INV_2x4x4_Wout_Div', 'Portfolios_Formed_on_E-P', 'Portfolios_Formed_on_E-P_Wout_Div', 'Portfolios_Formed_on_CF-P', 'Portfolios_Formed_on_CF-P_Wout_Div', 'Portfolios_Formed_on_D-P', 'Portfolios_Formed_on_D-P_Wout_Div', '6_Portfolios_ME_EP_2x3', '6_Portfolios_ME_EP_2x3_Wout_Div', '6_Portfolios_ME_CFP_2x3', '6_Portfolios_ME_CFP_2x3_Wout_Div', '6_Portfolios_ME_DP_2x3', '6_Portfolios_ME_DP_2x3_Wout_Div', 'F-F_Momentum_Factor', 'F-F_Momentum_Factor_daily', '6_Portfolios_ME_Prior_12_2', '6_Portfolios_ME_Prior_12_2_Daily', '25_Portfolios_ME_Prior_12_2', '25_Portfolios_ME_Prior_12_2_Daily', '10_Portfolios_Prior_12_2', '10_Portfolios_Prior_12_2_Daily', 'F-F_ST_Reversal_Factor', 'F-F_ST_Reversal_Factor_daily', '6_Portfolios_ME_Prior_1_0', '6_Portfolios_ME_Prior_1_0_Daily', '25_Portfolios_ME_Prior_1_0', '25_Portfolios_ME_Prior_1_0_Daily', '10_Portfolios_Prior_1_0', '10_Portfolios_Prior_1_0_Daily', 'F-F_LT_Reversal_Factor', 'F-F_LT_Reversal_Factor_daily', '6_Portfolios_ME_Prior_60_13', '6_Portfolios_ME_Prior_60_13_Daily', '25_Portfolios_ME_Prior_60_13', '25_Portfolios_ME_Prior_60_13_Daily', '10_Portfolios_Prior_60_13', '10_Portfolios_Prior_60_13_Daily', 'Portfolios_Formed_on_AC', '25_Portfolios_ME_AC_5x5', 'Portfolios_Formed_on_BETA', '25_Portfolios_ME_BETA_5x5', 'Portfolios_Formed_on_NI', '25_Portfolios_ME_NI_5x5', 'Portfolios_Formed_on_VAR', '25_Portfolios_ME_VAR_5x5', 'Portfolios_Formed_on_RESVAR', '25_Portfolios_ME_RESVAR_5x5', '5_Industry_Portfolios', '5_Industry_Portfolios_Wout_Div', '5_Industry_Portfolios_daily', '10_Industry_Portfolios', '10_Industry_Portfolios_Wout_Div', '10_Industry_Portfolios_daily', '12_Industry_Portfolios', '12_Industry_Portfolios_Wout_Div', '12_Industry_Portfolios_daily', '17_Industry_Portfolios', '17_Industry_Portfolios_Wout_Div', '17_Industry_Portfolios_daily', '30_Industry_Portfolios', '30_Industry_Portfolios_Wout_Div', '30_Industry_Portfolios_daily', '38_Industry_Portfolios', '38_Industry_Portfolios_Wout_Div', '38_Industry_Portfolios_daily', '48_Industry_Portfolios', '48_Industry_Portfolios_Wout_Div', '48_Industry_Portfolios_daily', '49_Industry_Portfolios', '49_Industry_Portfolios_Wout_Div', '49_Industry_Portfolios_daily', 'ME_Breakpoints', 'BE-ME_Breakpoints', 'OP_Breakpoints', 'INV_Breakpoints', 'E-P_Breakpoints', 'CF-P_Breakpoints', 'D-P_Breakpoints', 'Prior_2-12_Breakpoints', 'Developed_3_Factors', 'Developed_3_Factors_Daily', 'Developed_ex_US_3_Factors', 'Developed_ex_US_3_Factors_Daily', 'Europe_3_Factors', 'Europe_3_Factors_Daily', 'Japan_3_Factors', 'Japan_3_Factors_Daily', 'Asia_Pacific_ex_Japan_3_Factors', 'Asia_Pacific_ex_Japan_3_Factors_Daily', 'North_America_3_Factors', 'North_America_3_Factors_Daily', 'Developed_5_Factors', 'Developed_5_Factors_Daily', 'Developed_ex_US_5_Factors', 'Developed_ex_US_5_Factors_Daily', 'Europe_5_Factors', 'Europe_5_Factors_Daily', 'Japan_5_Factors', 'Japan_5_Factors_Daily', 'Asia_Pacific_ex_Japan_5_Factors', 'Asia_Pacific_ex_Japan_5_Factors_Daily', 'North_America_5_Factors', 'North_America_5_Factors_Daily', 'Developed_Mom_Factor', 'Developed_Mom_Factor_Daily', 'Developed_ex_US_Mom_Factor', 'Developed_ex_US_Mom_Factor_Daily', 'Europe_Mom_Factor', 'Europe_Mom_Factor_Daily', 'Japan_Mom_Factor', 'Japan_Mom_Factor_Daily', 'Asia_Pacific_ex_Japan_MOM_Factor', 'Asia_Pacific_ex_Japan_MOM_Factor_Daily', 'North_America_Mom_Factor', 'North_America_Mom_Factor_Daily', 'Developed_6_Portfolios_ME_BE-ME', 'Developed_6_Portfolios_ME_BE-ME_daily', 'Developed_ex_US_6_Portfolios_ME_BE-ME', 'Developed_ex_US_6_Portfolios_ME_BE-ME_daily', 'Europe_6_Portfolios_ME_BE-ME', 'Europe_6_Portfolios_ME_BE-ME_daily', 'Japan_6_Portfolios_ME_BE-ME', 'Japan_6_Portfolios_ME_BE-ME_daily', 'Asia_Pacific_ex_Japan_6_Portfolios_ME_BE-ME', 'Asia_Pacific_ex_Japan_6_Portfolios_ME_BE-ME_daily', 'North_America_6_Portfolios_ME_BE-ME', 'North_America_6_Portfolios_ME_BE-ME_daily', 'Developed_25_Portfolios_ME_BE-ME', 'Developed_25_Portfolios_ME_BE-ME_daily', 'Developed_ex_US_25_Portfolios_ME_BE-ME', 'Developed_ex_US_25_Portfolios_ME_BE-ME_daily', 'Europe_25_Portfolios_ME_BE-ME', 'Europe_25_Portfolios_ME_BE-ME_daily', 'Japan_25_Portfolios_ME_BE-ME', 'Japan_25_Portfolios_ME_BE-ME_daily', 'Asia_Pacific_ex_Japan_25_Portfolios_ME_BE-ME', 'Asia_Pacific_ex_Japan_25_Portfolios_ME_BE-ME_daily', 'North_America_25_Portfolios_ME_BE-ME', 'North_America_25_Portfolios_ME_BE-ME_daily', 'Developed_6_Portfolios_ME_OP', 'Developed_6_Portfolios_ME_OP_Daily', 'Developed_ex_US_6_Portfolios_ME_OP', 'Developed_ex_US_6_Portfolios_ME_OP_Daily', 'Europe_6_Portfolios_ME_OP', 'Europe_6_Portfolios_ME_OP_Daily', 'Japan_6_Portfolios_ME_OP', 'Japan_6_Portfolios_ME_OP_Daily', 'Asia_Pacific_ex_Japan_6_Portfolios_ME_OP', 'Asia_Pacific_ex_Japan_6_Portfolios_ME_OP_Daily', 'North_America_6_Portfolios_ME_OP', 'North_America_6_Portfolios_ME_OP_Daily', 'Developed_25_Portfolios_ME_OP', 'Developed_25_Portfolios_ME_OP_Daily', 'Developed_ex_US_25_Portfolios_ME_OP', 'Developed_ex_US_25_Portfolios_ME_OP_Daily', 'Europe_25_Portfolios_ME_OP', 'Europe_25_Portfolios_ME_OP_Daily', 'Japan_25_Portfolios_ME_OP', 'Japan_25_Portfolios_ME_OP_Daily', 'Asia_Pacific_ex_Japan_25_Portfolios_ME_OP', 'Asia_Pacific_ex_Japan_25_Portfolios_ME_OP_Daily', 'North_America_25_Portfolios_ME_OP', 'North_America_25_Portfolios_ME_OP_Daily', 'Developed_6_Portfolios_ME_INV', 'Developed_6_Portfolios_ME_INV_Daily', 'Developed_ex_US_6_Portfolios_ME_INV', 'Developed_ex_US_6_Portfolios_ME_INV_Daily', 'Europe_6_Portfolios_ME_INV', 'Europe_6_Portfolios_ME_INV_Daily', 'Japan_6_Portfolios_ME_INV', 'Japan_6_Portfolios_ME_INV_Daily', 'Asia_Pacific_ex_Japan_6_Portfolios_ME_INV', 'Asia_Pacific_ex_Japan_6_Portfolios_ME_INV_Daily', 'North_America_6_Portfolios_ME_INV', 'North_America_6_Portfolios_ME_INV_Daily', 'Developed_25_Portfolios_ME_INV', 'Developed_25_Portfolios_ME_INV_Daily', 'Developed_ex_US_25_Portfolios_ME_INV', 'Developed_ex_US_25_Portfolios_ME_INV_Daily', 'Europe_25_Portfolios_ME_INV', 'Europe_25_Portfolios_ME_INV_Daily', 'Japan_25_Portfolios_ME_INV', 'Japan_25_Portfolios_ME_INV_Daily', 'Asia_Pacific_ex_Japan_25_Portfolios_ME_INV', 'Asia_Pacific_ex_Japan_25_Portfolios_ME_INV_Daily', 'North_America_25_Portfolios_ME_INV', 'North_America_25_Portfolios_ME_INV_Daily', 'Developed_6_Portfolios_ME_Prior_12_2', 'Developed_6_Portfolios_ME_Prior_250_20_daily', 'Developed_ex_US_6_Portfolios_ME_Prior_12_2', 'Developed_ex_US_6_Portfolios_ME_Prior_250_20_daily', 'Europe_6_Portfolios_ME_Prior_12_2', 'Europe_6_Portfolios_ME_Prior_250_20_daily', 'Japan_6_Portfolios_ME_Prior_12_2', 'Japan_6_Portfolios_ME_Prior_250_20_daily', 'Asia_Pacific_ex_Japan_6_Portfolios_ME_Prior_12_2', 'Asia_Pacific_ex_Japan_6_Portfolios_ME_Prior_250_20_daily', 'North_America_6_Portfolios_ME_Prior_12_2', 'North_America_6_Portfolios_ME_Prior_250_20_daily', 'Developed_25_Portfolios_ME_Prior_12_2', 'Developed_25_Portfolios_ME_Prior_250_20_daily', 'Developed_ex_US_25_Portfolios_ME_Prior_12_2', 'Developed_ex_US_25_Portfolios_ME_Prior_250_20_daily', 'Europe_25_Portfolios_ME_Prior_12_2', 'Europe_25_Portfolios_ME_Prior_250_20_daily', 'Japan_25_Portfolios_ME_Prior_12_2', 'Japan_25_Portfolios_ME_Prior_250_20_daily', 'Asia_Pacific_ex_Japan_25_Portfolios_ME_Prior_12_2', 'Asia_Pacific_ex_Japan_25_Portfolios_ME_Prior_250_20_daily', 'North_America_25_Portfolios_ME_Prior_12_2', 'North_America_25_Portfolios_ME_Prior_250_20_daily', 'Developed_32_Portfolios_ME_BE-ME_OP_2x4x4', 'Developed_ex_US_32_Portfolios_ME_BE-ME_OP_2x4x4', 'Europe_32_Portfolios_ME_BE-ME_OP_2x4x4', 'Japan_32_Portfolios_ME_BE-ME_OP_2x4x4', 'Asia_Pacific_ex_Japan_32_Portfolios_ME_BE-ME_OP_2x4x4', 'North_America_32_Portfolios_ME_BE-ME_OP_2x4x4', 'Developed_32_Portfolios_ME_BE-ME_INV(TA)_2x4x4', 'Developed_ex_US_32_Portfolios_ME_BE-ME_INV(TA)_2x4x4', 'Europe_32_Portfolios_ME_BE-ME_INV(TA)_2x4x4', 'Japan_32_Portfolios_ME_BE-ME_INV(TA)_2x4x4', 'Asia_Pacific_ex_Japan_32_Portfolios_ME_BE-ME_INV(TA)_2x4x4', 'North_America_32_Portfolios_ME_BE-ME_INV(TA)_2x4x4', 'Developed_32_Portfolios_ME_INV(TA)_OP_2x4x4', 'Developed_ex_US_32_Portfolios_ME_INV(TA)_OP_2x4x4', 'Europe_32_Portfolios_ME_INV(TA)_OP_2x4x4', 'Japan_32_Portfolios_ME_INV(TA)_OP_2x4x4', 'Asia_Pacific_ex_Japan_32_Portfolios_ME_INV(TA)_OP_2x4x4', 'North_America_32_Portfolios_ME_INV(TA)_OP_2x4x4', 'Emerging_5_Factors', 'Emerging_MOM_Factor', 'Emerging_Markets_6_Portfolios_ME_BE-ME', 'Emerging_Markets_6_Portfolios_ME_OP', 'Emerging_Markets_6_Portfolios_ME_INV', 'Emerging_Markets_6_Portfolios_ME_Prior_12_2', 'Emerging_Markets_4_Portfolios_BE-ME_OP', 'Emerging_Markets_4_Portfolios_OP_INV', 'Emerging_Markets_4_Portfolios_BE-ME_INV']\n"
     ]
    }
   ],
   "source": [
    "datasets = ff.get_available_datasets()\n",
    "print('No. of datasets:{0}'.format(len(datasets)))\n",
    "print(datasets)"
   ]
  },
  {
   "cell_type": "code",
   "execution_count": 6,
   "metadata": {
    "colab": {
     "base_uri": "https://localhost:8080/"
    },
    "executionInfo": {
     "elapsed": 1156,
     "status": "ok",
     "timestamp": 1678680087713,
     "user": {
      "displayName": "Sang-Ook Shin",
      "userId": "07237378072833558059"
     },
     "user_tz": -540
    },
    "id": "9U84qbpRwtK4",
    "outputId": "76eaf8de-38b9-458b-de39-fd4d4dc71481"
   },
   "outputs": [
    {
     "name": "stdout",
     "output_type": "stream",
     "text": [
      "KEYS: dict_keys([0, 1, 2, 3, 4, 5, 6, 7, 'DESCR'])\n",
      "DATASET DESCRIPTION \n",
      " 10 Industry Portfolios\n",
      "----------------------\n",
      "\n",
      "This file was created by CMPT_IND_RETS using the 202301 CRSP database. It contains value- and equal-weighted returns for 10 industry portfolios. The portfolios are constructed at the end of June. The annual returns are from January to December. Missing data are indicated by -99.99 or -999. Copyright 2023 Kenneth R. French\n",
      "\n",
      "  0 : Average Value Weighted Returns -- Monthly (756 rows x 10 cols)\n",
      "  1 : Average Equal Weighted Returns -- Monthly (756 rows x 10 cols)\n",
      "  2 : Average Value Weighted Returns -- Annual (63 rows x 10 cols)\n",
      "  3 : Average Equal Weighted Returns -- Annual (63 rows x 10 cols)\n",
      "  4 : Number of Firms in Portfolios (756 rows x 10 cols)\n",
      "  5 : Average Firm Size (756 rows x 10 cols)\n",
      "  6 : Sum of BE / Sum of ME (63 rows x 10 cols)\n",
      "  7 : Value-Weighted Average of BE/ME (63 rows x 10 cols)\n",
      "         NoDur  Durbl  Manuf  Enrgy  HiTec  Telcm  Shops  Hlth   Utils  Other\n",
      "Date                                                                         \n",
      "1960-01  -3.35 -11.36  -8.41  -7.49  -9.83   0.95  -5.70  -6.35  -2.07  -4.43\n",
      "1960-02   2.93  -2.07   0.49  -3.43   5.39   8.36   4.06   0.27   2.77   0.01\n",
      "1960-03  -1.41  -5.26  -3.55  -0.80   1.58   0.14   0.16   1.61   1.77  -2.34\n",
      "1960-04   1.54  -2.09  -3.53  -4.26   0.56  -1.05  -0.21   1.68   1.37  -1.14\n",
      "1960-05   6.52  -0.51   3.86  -3.46   9.57   3.32   3.29  13.77   1.52   0.33\n"
     ]
    }
   ],
   "source": [
    "# fama-french industry portfolios\n",
    "ff_10industry = web.DataReader('10_Industry_Portfolios','famafrench',start='1960-01-01',end='2022-12-31')\n",
    "print('KEYS: {0}'.format(ff_10industry.keys())) # ds_industry is a dictionary\n",
    "print('DATASET DESCRIPTION \\n {0}'.format(ff_10industry['DESCR']))\n",
    "\n",
    "# Use monthly value-weighted returns\n",
    "ff_10ind = ff_10industry[0] \n",
    "print(ff_10ind.head())"
   ]
  },
  {
   "cell_type": "code",
   "execution_count": 7,
   "metadata": {
    "colab": {
     "base_uri": "https://localhost:8080/"
    },
    "executionInfo": {
     "elapsed": 260,
     "status": "ok",
     "timestamp": 1678680115889,
     "user": {
      "displayName": "Sang-Ook Shin",
      "userId": "07237378072833558059"
     },
     "user_tz": -540
    },
    "id": "soZy8E2xa6dN",
    "outputId": "c3a7b212-81d0-4e13-81ec-e7872aebadd2"
   },
   "outputs": [
    {
     "name": "stdout",
     "output_type": "stream",
     "text": [
      "KEYS: dict_keys([0, 1, 'DESCR'])\n",
      "DATASET DESCRIPTION \n",
      " F-F Research Data Factors\n",
      "-------------------------\n",
      "\n",
      "This file was created by CMPT_ME_BEME_RETS using the 202301 CRSP database. The 1-month TBill return is from Ibbotson and Associates, Inc. Copyright 2023 Kenneth R. French\n",
      "\n",
      "  0 : (756 rows x 4 cols)\n",
      "  1 : Annual Factors: January-December (63 rows x 4 cols)\n",
      "         Mkt-RF   SMB   HML    RF\n",
      "Date                             \n",
      "1960-01   -6.98  2.09  2.78  0.33\n",
      "1960-02    1.17  0.51 -1.93  0.29\n",
      "1960-03   -1.63 -0.49 -2.94  0.35\n",
      "1960-04   -1.71  0.32 -2.28  0.19\n",
      "1960-05    3.12  1.21 -3.70  0.27\n"
     ]
    }
   ],
   "source": [
    "# fama-french 3 factor model (1993 paper)\n",
    "ff_3factor = web.DataReader('F-F_Research_Data_Factors', 'famafrench', start='1960-01-01', end='2022-12-31') \n",
    "print('KEYS: {0}'.format(ff_3factor.keys()))\n",
    "print('DATASET DESCRIPTION \\n {0}'.format(ff_3factor['DESCR']))\n",
    "\n",
    "# Use monthly value-weighted returns\n",
    "ff_3fac = ff_3factor[0] \n",
    "print(ff_3fac.head())"
   ]
  },
  {
   "cell_type": "code",
   "execution_count": 8,
   "metadata": {
    "colab": {
     "base_uri": "https://localhost:8080/"
    },
    "executionInfo": {
     "elapsed": 702,
     "status": "ok",
     "timestamp": 1678530831025,
     "user": {
      "displayName": "Sang-Ook Shin",
      "userId": "07237378072833558059"
     },
     "user_tz": -540
    },
    "id": "eDvctLn0xNW4",
    "outputId": "5064f6d2-c480-4079-9fdb-18f7428e47be"
   },
   "outputs": [
    {
     "name": "stdout",
     "output_type": "stream",
     "text": [
      "KEYS: dict_keys([0, 1, 'DESCR'])\n",
      "DATASET DESCRIPTION \n",
      " F-F Research Data 5 Factors 2x3\n",
      "-------------------------------\n",
      "\n",
      "This file was created by CMPT_ME_BEME_OP_INV_RETS using the 202301 CRSP database. The 1-month TBill return is from Ibbotson and Associates Inc.\n",
      "\n",
      "  0 : (714 rows x 6 cols)\n",
      "  1 : Annual Factors: January-December (59 rows x 6 cols)\n",
      "         Mkt-RF   SMB   HML   RMW   CMA    RF\n",
      "Date                                         \n",
      "1963-07   -0.39 -0.41 -0.97  0.68 -1.18  0.27\n",
      "1963-08    5.07 -0.80  1.80  0.36 -0.35  0.25\n",
      "1963-09   -1.57 -0.52  0.13 -0.71  0.29  0.27\n",
      "1963-10    2.53 -1.39 -0.10  2.80 -2.01  0.29\n",
      "1963-11   -0.85 -0.88  1.75 -0.51  2.24  0.27\n",
      "Index(['1963-07', '1963-08', '1963-09', '1963-10', '1963-11', '1963-12',\n",
      "       '1964-01', '1964-02', '1964-03', '1964-04',\n",
      "       ...\n",
      "       '2022-03', '2022-04', '2022-05', '2022-06', '2022-07', '2022-08',\n",
      "       '2022-09', '2022-10', '2022-11', '2022-12'],\n",
      "      dtype='object', name='Date', length=714)\n"
     ]
    }
   ],
   "source": [
    "# fama-french 5 factor model (2015 paper)\n",
    "ff_5factor = web.DataReader('F-F_Research_Data_5_Factors_2x3', 'famafrench', start='1960-01-01', end='2022-12-31') \n",
    "print('KEYS: {0}'.format(ff_5factor.keys()))\n",
    "print('DATASET DESCRIPTION \\n {0}'.format(ff_5factor['DESCR']))\n",
    "\n",
    "# Use monthly value-weighted returns\n",
    "ff_5fac = ff_5factor[0] \n",
    "print(ff_5fac.head())\n",
    "\n",
    "ff_5fac.index=ff_5fac.index.strftime('%Y-%m') # string from time\n",
    "print(ff_5fac.index)"
   ]
  },
  {
   "cell_type": "code",
   "execution_count": 15,
   "metadata": {
    "colab": {
     "base_uri": "https://localhost:8080/"
    },
    "executionInfo": {
     "elapsed": 265,
     "status": "ok",
     "timestamp": 1678680244509,
     "user": {
      "displayName": "Sang-Ook Shin",
      "userId": "07237378072833558059"
     },
     "user_tz": -540
    },
    "id": "Wr2Py8v_mBMl",
    "outputId": "95a113cb-8620-4f37-8948-ca4393cac608",
    "scrolled": false
   },
   "outputs": [
    {
     "name": "stdout",
     "output_type": "stream",
     "text": [
      "         NoDur  Durbl  Manuf  Enrgy  HiTec  Telcm  Shops  Hlth   Utils  Other  \\\n",
      "Date                                                                            \n",
      "1960-01  -3.35 -11.36  -8.41  -7.49  -9.83   0.95  -5.70  -6.35  -2.07  -4.43   \n",
      "1960-02   2.93  -2.07   0.49  -3.43   5.39   8.36   4.06   0.27   2.77   0.01   \n",
      "1960-03  -1.41  -5.26  -3.55  -0.80   1.58   0.14   0.16   1.61   1.77  -2.34   \n",
      "1960-04   1.54  -2.09  -3.53  -4.26   0.56  -1.05  -0.21   1.68   1.37  -1.14   \n",
      "1960-05   6.52  -0.51   3.86  -3.46   9.57   3.32   3.29  13.77   1.52   0.33   \n",
      "1960-06   4.32   0.69   1.68   3.52   1.42  -0.34   3.78  -0.16   5.79   2.85   \n",
      "1960-07  -0.95  -0.50  -4.15   0.70  -4.21   0.10  -3.00  -3.86  -1.23  -1.54   \n",
      "1960-08   4.52   3.20   1.70   4.10   1.16   7.11   3.14   2.46   4.46   3.02   \n",
      "1960-09  -3.41  -5.30  -7.03  -1.00  -8.73  -5.91  -8.39  -8.71  -4.55  -5.80   \n",
      "1960-10   1.65  -0.98  -0.97   2.43  -3.26   0.14   0.22  -3.49  -0.31  -0.86   \n",
      "\n",
      "         Mkt-RF   SMB   HML    RF  \n",
      "Date                               \n",
      "1960-01   -6.98  2.09  2.78  0.33  \n",
      "1960-02    1.17  0.51 -1.93  0.29  \n",
      "1960-03   -1.63 -0.49 -2.94  0.35  \n",
      "1960-04   -1.71  0.32 -2.28  0.19  \n",
      "1960-05    3.12  1.21 -3.70  0.27  \n",
      "1960-06    2.08 -0.21 -0.34  0.24  \n",
      "1960-07   -2.37 -0.51  1.98  0.13  \n",
      "1960-08    3.01  0.87 -0.18  0.17  \n",
      "1960-09   -5.99 -1.11  1.62  0.16  \n",
      "1960-10   -0.71 -4.08  2.83  0.22  \n"
     ]
    }
   ],
   "source": [
    "# Merge datasets: 10 industry portfolios + Fama-French factors\n",
    "ff_10ind_3fac=pd.merge(ff_10ind, ff_3fac, how='inner', left_index=True, right_index=True)\n",
    "print(ff_10ind_3fac.head(10))\n",
    "\n",
    "# Define excess returns (over RF)\n",
    "for i in range(0,10):\n",
    "  colnm = ff_10ind_3fac.columns[i]\n",
    "  new_colnm = colnm.strip() + '_RF'\n",
    "  ff_10ind_3fac[new_colnm] = ff_10ind_3fac[colnm] - ff_10ind_3fac['RF'] # 무위험수익률을 빼줌 (rp - rf)\n",
    "\n",
    "ff_10ind_3fac.rename(columns={'Mkt-RF':'MKT_RF'}, inplace=True)"
   ]
  },
  {
   "cell_type": "code",
   "execution_count": 16,
   "metadata": {
    "scrolled": true
   },
   "outputs": [
    {
     "name": "stdout",
     "output_type": "stream",
     "text": [
      "Index(['NoDur', 'Durbl', 'Manuf', 'Enrgy', 'HiTec', 'Telcm', 'Shops', 'Hlth ',\n",
      "       'Utils', 'Other', 'MKT_RF', 'SMB', 'HML', 'RF', 'NoDur_RF', 'Durbl_RF',\n",
      "       'Manuf_RF', 'Enrgy_RF', 'HiTec_RF', 'Telcm_RF', 'Shops_RF', 'Hlth_RF',\n",
      "       'Utils_RF', 'Other_RF'],\n",
      "      dtype='object')\n"
     ]
    }
   ],
   "source": [
    "print(ff_10ind_3fac.columns)"
   ]
  },
  {
   "cell_type": "code",
   "execution_count": 17,
   "metadata": {},
   "outputs": [
    {
     "name": "stdout",
     "output_type": "stream",
     "text": [
      "         NoDur  Durbl  Manuf  Enrgy  HiTec  Telcm  Shops  Hlth   Utils  Other  \\\n",
      "Date                                                                            \n",
      "1960-01  -3.35 -11.36  -8.41  -7.49  -9.83   0.95  -5.70  -6.35  -2.07  -4.43   \n",
      "1960-02   2.93  -2.07   0.49  -3.43   5.39   8.36   4.06   0.27   2.77   0.01   \n",
      "1960-03  -1.41  -5.26  -3.55  -0.80   1.58   0.14   0.16   1.61   1.77  -2.34   \n",
      "1960-04   1.54  -2.09  -3.53  -4.26   0.56  -1.05  -0.21   1.68   1.37  -1.14   \n",
      "1960-05   6.52  -0.51   3.86  -3.46   9.57   3.32   3.29  13.77   1.52   0.33   \n",
      "1960-06   4.32   0.69   1.68   3.52   1.42  -0.34   3.78  -0.16   5.79   2.85   \n",
      "1960-07  -0.95  -0.50  -4.15   0.70  -4.21   0.10  -3.00  -3.86  -1.23  -1.54   \n",
      "1960-08   4.52   3.20   1.70   4.10   1.16   7.11   3.14   2.46   4.46   3.02   \n",
      "1960-09  -3.41  -5.30  -7.03  -1.00  -8.73  -5.91  -8.39  -8.71  -4.55  -5.80   \n",
      "1960-10   1.65  -0.98  -0.97   2.43  -3.26   0.14   0.22  -3.49  -0.31  -0.86   \n",
      "\n",
      "         ...  NoDur_RF  Durbl_RF  Manuf_RF  Enrgy_RF  HiTec_RF  Telcm_RF  \\\n",
      "Date     ...                                                               \n",
      "1960-01  ...     -3.68    -11.69     -8.74     -7.82    -10.16      0.62   \n",
      "1960-02  ...      2.64     -2.36      0.20     -3.72      5.10      8.07   \n",
      "1960-03  ...     -1.76     -5.61     -3.90     -1.15      1.23     -0.21   \n",
      "1960-04  ...      1.35     -2.28     -3.72     -4.45      0.37     -1.24   \n",
      "1960-05  ...      6.25     -0.78      3.59     -3.73      9.30      3.05   \n",
      "1960-06  ...      4.08      0.45      1.44      3.28      1.18     -0.58   \n",
      "1960-07  ...     -1.08     -0.63     -4.28      0.57     -4.34     -0.03   \n",
      "1960-08  ...      4.35      3.03      1.53      3.93      0.99      6.94   \n",
      "1960-09  ...     -3.57     -5.46     -7.19     -1.16     -8.89     -6.07   \n",
      "1960-10  ...      1.43     -1.20     -1.19      2.21     -3.48     -0.08   \n",
      "\n",
      "         Shops_RF  Hlth_RF  Utils_RF  Other_RF  \n",
      "Date                                            \n",
      "1960-01     -6.03    -6.68     -2.40     -4.76  \n",
      "1960-02      3.77    -0.02      2.48     -0.28  \n",
      "1960-03     -0.19     1.26      1.42     -2.69  \n",
      "1960-04     -0.40     1.49      1.18     -1.33  \n",
      "1960-05      3.02    13.50      1.25      0.06  \n",
      "1960-06      3.54    -0.40      5.55      2.61  \n",
      "1960-07     -3.13    -3.99     -1.36     -1.67  \n",
      "1960-08      2.97     2.29      4.29      2.85  \n",
      "1960-09     -8.55    -8.87     -4.71     -5.96  \n",
      "1960-10      0.00    -3.71     -0.53     -1.08  \n",
      "\n",
      "[10 rows x 24 columns]\n"
     ]
    }
   ],
   "source": [
    "print(ff_10ind_3fac.head(10))"
   ]
  },
  {
   "cell_type": "code",
   "execution_count": 10,
   "metadata": {
    "colab": {
     "base_uri": "https://localhost:8080/"
    },
    "executionInfo": {
     "elapsed": 397,
     "status": "ok",
     "timestamp": 1678680266414,
     "user": {
      "displayName": "Sang-Ook Shin",
      "userId": "07237378072833558059"
     },
     "user_tz": -540
    },
    "id": "gcFT7i8OVuJ5",
    "outputId": "d9600ac9-c833-4856-a8f2-2a95d6020fac"
   },
   "outputs": [
    {
     "name": "stdout",
     "output_type": "stream",
     "text": [
      "                            OLS Regression Results                            \n",
      "==============================================================================\n",
      "Dep. Variable:               Enrgy_RF   R-squared:                       0.481\n",
      "Model:                            OLS   Adj. R-squared:                  0.479\n",
      "Method:                 Least Squares   F-statistic:                     232.0\n",
      "Date:                Tue, 14 Mar 2023   Prob (F-statistic):          1.59e-106\n",
      "Time:                        16:04:05   Log-Likelihood:                -2178.5\n",
      "No. Observations:                 756   AIC:                             4365.\n",
      "Df Residuals:                     752   BIC:                             4383.\n",
      "Df Model:                           3                                         \n",
      "Covariance Type:            nonrobust                                         \n",
      "==============================================================================\n",
      "                 coef    std err          t      P>|t|      [0.025      0.975]\n",
      "------------------------------------------------------------------------------\n",
      "Intercept      0.0400      0.160      0.250      0.803      -0.275       0.354\n",
      "MKT_RF         0.9583      0.037     25.666      0.000       0.885       1.032\n",
      "SMB           -0.1219      0.056     -2.196      0.028      -0.231      -0.013\n",
      "HML            0.4902      0.056      8.828      0.000       0.381       0.599\n",
      "==============================================================================\n",
      "Omnibus:                       65.942   Durbin-Watson:                   1.894\n",
      "Prob(Omnibus):                  0.000   Jarque-Bera (JB):              175.043\n",
      "Skew:                           0.449   Prob(JB):                     9.77e-39\n",
      "Kurtosis:                       5.179   Cond. No.                         4.81\n",
      "==============================================================================\n",
      "\n",
      "Notes:\n",
      "[1] Standard Errors assume that the covariance matrix of the errors is correctly specified.\n"
     ]
    }
   ],
   "source": [
    "# Run OLS model\n",
    "model = sm.formula.ols(formula = 'Enrgy_RF ~ MKT_RF + SMB + HML', data = ff_10ind_3fac).fit()\n",
    "print(model.summary())"
   ]
  },
  {
   "cell_type": "code",
   "execution_count": 11,
   "metadata": {
    "colab": {
     "base_uri": "https://localhost:8080/"
    },
    "executionInfo": {
     "elapsed": 248,
     "status": "ok",
     "timestamp": 1678680293286,
     "user": {
      "displayName": "Sang-Ook Shin",
      "userId": "07237378072833558059"
     },
     "user_tz": -540
    },
    "id": "99Ce_221m-7J",
    "outputId": "aef0deba-4603-496a-b8c6-bc284d9a1139"
   },
   "outputs": [
    {
     "name": "stdout",
     "output_type": "stream",
     "text": [
      "Average alpha is 0.05%\n",
      "Average t-statistics is 0.45\n"
     ]
    }
   ],
   "source": [
    "alpha = [0]*10\n",
    "tval = [0]*10\n",
    "\n",
    "for i in range(0,10):\n",
    "  regeq = ff_10ind_3fac.columns[i+14] + ' ~ MKT_RF + SMB + HML'\n",
    "  model = sm.formula.ols(formula = regeq, data = ff_10ind_3fac).fit()\n",
    "  alpha[i] = model.params[0]\n",
    "  tval[i] = model.tvalues[0]\n",
    "\n",
    "print('Average alpha is {:.2f}%'.format(np.mean(alpha)))\n",
    "print('Average t-statistics is {:.2f}'.format(np.mean(tval)))"
   ]
  },
  {
   "cell_type": "code",
   "execution_count": 12,
   "metadata": {
    "colab": {
     "base_uri": "https://localhost:8080/",
     "height": 582
    },
    "executionInfo": {
     "elapsed": 780,
     "status": "ok",
     "timestamp": 1678680298953,
     "user": {
      "displayName": "Sang-Ook Shin",
      "userId": "07237378072833558059"
     },
     "user_tz": -540
    },
    "id": "HCljEYks9T07",
    "outputId": "f39479a9-ab8f-4ab7-f000-ea8249c86d69"
   },
   "outputs": [
    {
     "name": "stderr",
     "output_type": "stream",
     "text": [
      "/var/folders/db/bpz0hmcx5zq0d724jv46hmq40000gn/T/ipykernel_20787/1240595875.py:7: UserWarning: FixedFormatter should only be used together with FixedLocator\n",
      "  plt.gca().set_yticklabels(['{:.2f}'.format(x) for x in y_tick])\n"
     ]
    },
    {
     "data": {
      "image/png": "[encoded data removed]",
      "text/plain": [
       "<Figure size 432x288 with 1 Axes>"
      ]
     },
     "metadata": {
      "needs_background": "light"
     },
     "output_type": "display_data"
    },
    {
     "name": "stderr",
     "output_type": "stream",
     "text": [
      "/var/folders/db/bpz0hmcx5zq0d724jv46hmq40000gn/T/ipykernel_20787/1240595875.py:16: UserWarning: FixedFormatter should only be used together with FixedLocator\n",
      "  plt.gca().set_yticklabels(['{:.2f}'.format(x) for x in y_tick])\n"
     ]
    },
    {
     "data": {
      "image/png": "[encoded data removed]",
      "text/plain": [
       "<Figure size 432x288 with 1 Axes>"
      ]
     },
     "metadata": {
      "needs_background": "light"
     },
     "output_type": "display_data"
    }
   ],
   "source": [
    "# Draw plot of alphas\n",
    "x_axis = list(range(1,11))\n",
    "x_axis\n",
    "plt.plot(x_axis, alpha, 'o')\n",
    "plt.ylabel('Abnormal Returns')\n",
    "y_tick = plt.gca().get_yticks()\n",
    "plt.gca().set_yticklabels(['{:.2f}'.format(x) for x in y_tick])\n",
    "plt.show()\n",
    "\n",
    "# Draw plot of t-statistics\n",
    "x_axis = list(range(1,11))\n",
    "x_axis\n",
    "plt.plot(x_axis, tval, 'o')\n",
    "plt.ylabel('s-statistics')\n",
    "y_tick = plt.gca().get_yticks()\n",
    "plt.gca().set_yticklabels(['{:.2f}'.format(x) for x in y_tick])\n",
    "plt.show()"
   ]
  }
 ],
 "metadata": {
  "colab": {
   "provenance": [
    {
     "file_id": "https://github.com/jimsjoo/gilbut_portfolio/blob/master/6%EC%9E%A5_%ED%8C%8C%EB%A7%88_%ED%94%84%EB%A0%8C%EC%B9%98_%EB%AA%A8%EB%8D%B8.ipynb",
     "timestamp": 1663333586655
    }
   ]
  },
  "kernelspec": {
   "display_name": "Python 3 (ipykernel)",
   "language": "python",
   "name": "python3"
  },
  "language_info": {
   "codemirror_mode": {
    "name": "ipython",
    "version": 3
   },
   "file_extension": ".py",
   "mimetype": "text/x-python",
   "name": "python",
   "nbconvert_exporter": "python",
   "pygments_lexer": "ipython3",
   "version": "3.9.12"
  }
 },
 "nbformat": 4,
 "nbformat_minor": 1
}
